{
 "cells": [
  {
   "cell_type": "markdown",
   "metadata": {},
   "source": [
    "\n",
    "# Creationg of a song recommender\n",
    "To start with this new project I will start by **scraping popular songs** from the **Billboard top 100 chart.** After that I will **create a function** **(scrape_hot100)** that will scrape the 100 top Billboard chart:\n",
    "(https://www.billboard.com/charts/hot-100)\n",
    "\n",
    "\n",
    "\n",
    "\n",
    "\n",
    "Let's start now by importing all the necessary libraries:"
   ]
  },
  {
   "cell_type": "code",
   "execution_count": 1,
   "metadata": {},
   "outputs": [],
   "source": [
    "from bs4 import BeautifulSoup\n",
    "import requests\n",
    "import pandas as pd\n",
    "import numpy as np"
   ]
  },
  {
   "cell_type": "code",
   "execution_count": 2,
   "metadata": {},
   "outputs": [],
   "source": [
    "url = \"https://www.billboard.com/charts/hot-100/\""
   ]
  },
  {
   "cell_type": "code",
   "execution_count": 3,
   "metadata": {},
   "outputs": [
    {
     "name": "stdout",
     "output_type": "stream",
     "text": [
      "200\n"
     ]
    }
   ],
   "source": [
    "response = requests.get(url)\n",
    "print(response.status_code)"
   ]
  },
  {
   "cell_type": "code",
   "execution_count": 4,
   "metadata": {},
   "outputs": [],
   "source": [
    "soup = BeautifulSoup(response.text, 'html.parser')\n",
    "#print(soup.prettify())"
   ]
  },
  {
   "cell_type": "code",
   "execution_count": 5,
   "metadata": {},
   "outputs": [],
   "source": [
    "# empty lists to store artists and titles\n",
    "titles = []\n",
    "artists = []"
   ]
  },
  {
   "cell_type": "code",
   "execution_count": 6,
   "metadata": {},
   "outputs": [],
   "source": [
    "# for loop to get all the titles and store them in our list\n",
    "for i in soup.select(\"li.o-chart-results-list__item > h3\"):\n",
    "    titles.append(i.get_text().strip())"
   ]
  },
  {
   "cell_type": "code",
   "execution_count": 7,
   "metadata": {},
   "outputs": [],
   "source": [
    " #for loop to get all the artists and store them in our list\n",
    "for i in soup.select(\"li.o-chart-results-list__item > span:nth-child(2)\"):\n",
    "    artists.append(i.get_text().strip())\n",
    "    #i.get_text().replace('\\n',\"\")"
   ]
  },
  {
   "cell_type": "code",
   "execution_count": null,
   "metadata": {},
   "outputs": [],
   "source": [
    "artists = [x for x in artists if x != \"NEW\"]\n",
    "titles = [x for x in titles if x != \"RE-\\nENTRY\"]"
   ]
  },
  {
   "cell_type": "code",
   "execution_count": null,
   "metadata": {},
   "outputs": [],
   "source": [
    "artists"
   ]
  },
  {
   "cell_type": "code",
   "execution_count": null,
   "metadata": {},
   "outputs": [],
   "source": [
    "# let's check again the lenght of our lists\n",
    "# if they are not the same lenght we will not be able to create our dataframe\n",
    "print(len(artists))\n",
    "print(len(titles))"
   ]
  },
  {
   "cell_type": "code",
   "execution_count": null,
   "metadata": {},
   "outputs": [],
   "source": [
    "hot100 = pd.DataFrame({\n",
    "                        \"title\":titles,\n",
    "                        \"artist\":artists\n",
    "                      })"
   ]
  },
  {
   "cell_type": "code",
   "execution_count": null,
   "metadata": {},
   "outputs": [],
   "source": [
    "hot100"
   ]
  },
  {
   "cell_type": "markdown",
   "metadata": {},
   "source": [
    "### Next I'm going to define the function that will scrape the current top 100 songs present at https://www.billboard.com/charts/hot-100"
   ]
  },
  {
   "cell_type": "code",
   "execution_count": 8,
   "metadata": {},
   "outputs": [],
   "source": [
    "#%%writefile -a functions.py\n",
    "\n",
    "def scrape_hot100 (url):\n",
    "    from bs4 import BeautifulSoup\n",
    "    import requests\n",
    "    import pandas as pd\n",
    "    import numpy as np\n",
    "    \n",
    "    titles = []\n",
    "    artists = []\n",
    "    \n",
    "    for i in soup.select(\"li.o-chart-results-list__item > h3\"):\n",
    "        titles.append(i.get_text().strip())\n",
    "    \n",
    "    for i in soup.select(\"li.o-chart-results-list__item > span:nth-child(2)\"):\n",
    "        artists.append(i.get_text().strip())\n",
    "        artists = [x for x in artists if x != \"NEW\"]\n",
    "        artists = [x for x in titles if x != \"RE-ENTRY\"]\n",
    "    \n",
    "    \n",
    "    scraped_hot100 = pd.DataFrame({\n",
    "                        \"title\":titles,\n",
    "                        \"artist\":artists\n",
    "                      })\n",
    "    scraped_hot100.to_csv(\"hot100.csv\", index=False)\n",
    "    return scraped_hot100"
   ]
  },
  {
   "cell_type": "code",
   "execution_count": 9,
   "metadata": {},
   "outputs": [
    {
     "data": {
      "text/html": [
       "<div>\n",
       "<style scoped>\n",
       "    .dataframe tbody tr th:only-of-type {\n",
       "        vertical-align: middle;\n",
       "    }\n",
       "\n",
       "    .dataframe tbody tr th {\n",
       "        vertical-align: top;\n",
       "    }\n",
       "\n",
       "    .dataframe thead th {\n",
       "        text-align: right;\n",
       "    }\n",
       "</style>\n",
       "<table border=\"1\" class=\"dataframe\">\n",
       "  <thead>\n",
       "    <tr style=\"text-align: right;\">\n",
       "      <th></th>\n",
       "      <th>title</th>\n",
       "      <th>artist</th>\n",
       "    </tr>\n",
       "  </thead>\n",
       "  <tbody>\n",
       "    <tr>\n",
       "      <th>0</th>\n",
       "      <td>Heat Waves</td>\n",
       "      <td>Heat Waves</td>\n",
       "    </tr>\n",
       "    <tr>\n",
       "      <th>1</th>\n",
       "      <td>We Don't Talk About Bruno</td>\n",
       "      <td>We Don't Talk About Bruno</td>\n",
       "    </tr>\n",
       "    <tr>\n",
       "      <th>2</th>\n",
       "      <td>Super Gremlin</td>\n",
       "      <td>Super Gremlin</td>\n",
       "    </tr>\n",
       "    <tr>\n",
       "      <th>3</th>\n",
       "      <td>abcdefu</td>\n",
       "      <td>abcdefu</td>\n",
       "    </tr>\n",
       "    <tr>\n",
       "      <th>4</th>\n",
       "      <td>Stay</td>\n",
       "      <td>Stay</td>\n",
       "    </tr>\n",
       "    <tr>\n",
       "      <th>...</th>\n",
       "      <td>...</td>\n",
       "      <td>...</td>\n",
       "    </tr>\n",
       "    <tr>\n",
       "      <th>95</th>\n",
       "      <td>Evil Twins</td>\n",
       "      <td>Evil Twins</td>\n",
       "    </tr>\n",
       "    <tr>\n",
       "      <th>96</th>\n",
       "      <td>Trust Nothing</td>\n",
       "      <td>Trust Nothing</td>\n",
       "    </tr>\n",
       "    <tr>\n",
       "      <th>97</th>\n",
       "      <td>Iffy</td>\n",
       "      <td>Iffy</td>\n",
       "    </tr>\n",
       "    <tr>\n",
       "      <th>98</th>\n",
       "      <td>Closer</td>\n",
       "      <td>Closer</td>\n",
       "    </tr>\n",
       "    <tr>\n",
       "      <th>99</th>\n",
       "      <td>When I'm Gone</td>\n",
       "      <td>When I'm Gone</td>\n",
       "    </tr>\n",
       "  </tbody>\n",
       "</table>\n",
       "<p>100 rows × 2 columns</p>\n",
       "</div>"
      ],
      "text/plain": [
       "                        title                     artist\n",
       "0                  Heat Waves                 Heat Waves\n",
       "1   We Don't Talk About Bruno  We Don't Talk About Bruno\n",
       "2               Super Gremlin              Super Gremlin\n",
       "3                     abcdefu                    abcdefu\n",
       "4                        Stay                       Stay\n",
       "..                        ...                        ...\n",
       "95                 Evil Twins                 Evil Twins\n",
       "96              Trust Nothing              Trust Nothing\n",
       "97                       Iffy                       Iffy\n",
       "98                     Closer                     Closer\n",
       "99              When I'm Gone              When I'm Gone\n",
       "\n",
       "[100 rows x 2 columns]"
      ]
     },
     "execution_count": 9,
     "metadata": {},
     "output_type": "execute_result"
    }
   ],
   "source": [
    "scrape_hot100(\"https://www.billboard.com/charts/hot-100/\")"
   ]
  },
  {
   "cell_type": "code",
   "execution_count": null,
   "metadata": {},
   "outputs": [],
   "source": []
  }
 ],
 "metadata": {
  "kernelspec": {
   "display_name": "Python 3",
   "language": "python",
   "name": "python3"
  },
  "language_info": {
   "codemirror_mode": {
    "name": "ipython",
    "version": 3
   },
   "file_extension": ".py",
   "mimetype": "text/x-python",
   "name": "python",
   "nbconvert_exporter": "python",
   "pygments_lexer": "ipython3",
   "version": "3.8.5"
  },
  "varInspector": {
   "cols": {
    "lenName": 16,
    "lenType": 16,
    "lenVar": 40
   },
   "kernels_config": {
    "python": {
     "delete_cmd_postfix": "",
     "delete_cmd_prefix": "del ",
     "library": "var_list.py",
     "varRefreshCmd": "print(var_dic_list())"
    },
    "r": {
     "delete_cmd_postfix": ") ",
     "delete_cmd_prefix": "rm(",
     "library": "var_list.r",
     "varRefreshCmd": "cat(var_dic_list()) "
    }
   },
   "types_to_exclude": [
    "module",
    "function",
    "builtin_function_or_method",
    "instance",
    "_Feature"
   ],
   "window_display": false
  }
 },
 "nbformat": 4,
 "nbformat_minor": 4
}
