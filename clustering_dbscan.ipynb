{
 "cells": [
  {
   "cell_type": "markdown",
   "metadata": {},
   "source": [
    "## Clustering"
   ]
  },
  {
   "cell_type": "code",
   "execution_count": 1,
   "metadata": {},
   "outputs": [],
   "source": [
    "import pandas as pd\n",
    "import numpy as np\n",
    "import matplotlib.pyplot as plt\n",
    "import pickle\n",
    "from sklearn import datasets \n",
    "from sklearn.preprocessing import StandardScaler\n",
    "from sklearn.cluster import KMeans\n",
    "from sklearn.metrics import silhouette_score"
   ]
  },
  {
   "cell_type": "code",
   "execution_count": 2,
   "metadata": {},
   "outputs": [],
   "source": [
    "concated_nothot = pd.read_csv('/Users/mariasoriano/Desktop/song_recommender2/data/feats_concated_nothot.csv')\n",
    "concated_hot100 = pd.read_csv('/Users/mariasoriano/Desktop/song_recommender2/data/feats_concated_top100.csv')"
   ]
  },
  {
   "cell_type": "code",
   "execution_count": 3,
   "metadata": {},
   "outputs": [],
   "source": [
    "df = pd.concat([concated_hot100, concated_nothot], ignore_index=True)"
   ]
  },
  {
   "cell_type": "code",
   "execution_count": 4,
   "metadata": {},
   "outputs": [],
   "source": [
    "df = df.drop(columns=['Unnamed: 0'], axis=1)"
   ]
  },
  {
   "cell_type": "code",
   "execution_count": 6,
   "metadata": {},
   "outputs": [],
   "source": [
    "X = df.drop(columns=['title', 'artist', 'id', 'type', 'uri', 'track_href', 'analysis_url'], axis=1)"
   ]
  },
  {
   "cell_type": "code",
   "execution_count": 8,
   "metadata": {},
   "outputs": [],
   "source": [
    "X.replace(\"Null\", 0, inplace=True)"
   ]
  },
  {
   "cell_type": "markdown",
   "metadata": {},
   "source": [
    "#### Applying the StandardScaler()\n",
    "- Apply StandardScaler() to data\n",
    "- Save the scaler"
   ]
  },
  {
   "cell_type": "code",
   "execution_count": 9,
   "metadata": {},
   "outputs": [
    {
     "data": {
      "text/html": [
       "<div>\n",
       "<style scoped>\n",
       "    .dataframe tbody tr th:only-of-type {\n",
       "        vertical-align: middle;\n",
       "    }\n",
       "\n",
       "    .dataframe tbody tr th {\n",
       "        vertical-align: top;\n",
       "    }\n",
       "\n",
       "    .dataframe thead th {\n",
       "        text-align: right;\n",
       "    }\n",
       "</style>\n",
       "<table border=\"1\" class=\"dataframe\">\n",
       "  <thead>\n",
       "    <tr style=\"text-align: right;\">\n",
       "      <th></th>\n",
       "      <th>danceability</th>\n",
       "      <th>energy</th>\n",
       "      <th>key</th>\n",
       "      <th>loudness</th>\n",
       "      <th>mode</th>\n",
       "      <th>speechiness</th>\n",
       "      <th>acousticness</th>\n",
       "      <th>instrumentalness</th>\n",
       "      <th>liveness</th>\n",
       "      <th>valence</th>\n",
       "      <th>tempo</th>\n",
       "      <th>duration_ms</th>\n",
       "      <th>time_signature</th>\n",
       "    </tr>\n",
       "  </thead>\n",
       "  <tbody>\n",
       "    <tr>\n",
       "      <th>0</th>\n",
       "      <td>1.194205</td>\n",
       "      <td>0.030892</td>\n",
       "      <td>1.694618</td>\n",
       "      <td>0.562213</td>\n",
       "      <td>0.737388</td>\n",
       "      <td>0.055825</td>\n",
       "      <td>0.107840</td>\n",
       "      <td>-0.646203</td>\n",
       "      <td>-0.583412</td>\n",
       "      <td>0.377626</td>\n",
       "      <td>-1.030344</td>\n",
       "      <td>-0.032867</td>\n",
       "      <td>0.330814</td>\n",
       "    </tr>\n",
       "    <tr>\n",
       "      <th>1</th>\n",
       "      <td>0.340520</td>\n",
       "      <td>0.858759</td>\n",
       "      <td>-1.114642</td>\n",
       "      <td>0.755887</td>\n",
       "      <td>0.737388</td>\n",
       "      <td>-0.388780</td>\n",
       "      <td>-0.955228</td>\n",
       "      <td>-0.646222</td>\n",
       "      <td>-0.514787</td>\n",
       "      <td>0.180550</td>\n",
       "      <td>1.601699</td>\n",
       "      <td>-0.480670</td>\n",
       "      <td>0.330814</td>\n",
       "    </tr>\n",
       "    <tr>\n",
       "      <th>2</th>\n",
       "      <td>1.515592</td>\n",
       "      <td>-0.353599</td>\n",
       "      <td>-0.833716</td>\n",
       "      <td>0.598595</td>\n",
       "      <td>0.737388</td>\n",
       "      <td>0.534186</td>\n",
       "      <td>-1.049573</td>\n",
       "      <td>-0.646222</td>\n",
       "      <td>1.084375</td>\n",
       "      <td>-1.202701</td>\n",
       "      <td>-1.263143</td>\n",
       "      <td>-0.209483</td>\n",
       "      <td>0.330814</td>\n",
       "    </tr>\n",
       "    <tr>\n",
       "      <th>3</th>\n",
       "      <td>0.862774</td>\n",
       "      <td>0.082850</td>\n",
       "      <td>-0.271864</td>\n",
       "      <td>0.727437</td>\n",
       "      <td>0.737388</td>\n",
       "      <td>-0.379135</td>\n",
       "      <td>-0.265305</td>\n",
       "      <td>-0.646222</td>\n",
       "      <td>1.147335</td>\n",
       "      <td>-0.053710</td>\n",
       "      <td>0.183213</td>\n",
       "      <td>-0.356964</td>\n",
       "      <td>0.330814</td>\n",
       "    </tr>\n",
       "    <tr>\n",
       "      <th>4</th>\n",
       "      <td>0.270216</td>\n",
       "      <td>-0.228900</td>\n",
       "      <td>-1.395568</td>\n",
       "      <td>0.341184</td>\n",
       "      <td>-1.356137</td>\n",
       "      <td>-0.050263</td>\n",
       "      <td>-0.111813</td>\n",
       "      <td>-0.646222</td>\n",
       "      <td>-0.464419</td>\n",
       "      <td>1.489433</td>\n",
       "      <td>2.663732</td>\n",
       "      <td>-0.137594</td>\n",
       "      <td>0.330814</td>\n",
       "    </tr>\n",
       "  </tbody>\n",
       "</table>\n",
       "</div>"
      ],
      "text/plain": [
       "   danceability    energy       key  loudness      mode  speechiness  \\\n",
       "0      1.194205  0.030892  1.694618  0.562213  0.737388     0.055825   \n",
       "1      0.340520  0.858759 -1.114642  0.755887  0.737388    -0.388780   \n",
       "2      1.515592 -0.353599 -0.833716  0.598595  0.737388     0.534186   \n",
       "3      0.862774  0.082850 -0.271864  0.727437  0.737388    -0.379135   \n",
       "4      0.270216 -0.228900 -1.395568  0.341184 -1.356137    -0.050263   \n",
       "\n",
       "   acousticness  instrumentalness  liveness   valence     tempo  duration_ms  \\\n",
       "0      0.107840         -0.646203 -0.583412  0.377626 -1.030344    -0.032867   \n",
       "1     -0.955228         -0.646222 -0.514787  0.180550  1.601699    -0.480670   \n",
       "2     -1.049573         -0.646222  1.084375 -1.202701 -1.263143    -0.209483   \n",
       "3     -0.265305         -0.646222  1.147335 -0.053710  0.183213    -0.356964   \n",
       "4     -0.111813         -0.646222 -0.464419  1.489433  2.663732    -0.137594   \n",
       "\n",
       "   time_signature  \n",
       "0        0.330814  \n",
       "1        0.330814  \n",
       "2        0.330814  \n",
       "3        0.330814  \n",
       "4        0.330814  "
      ]
     },
     "metadata": {},
     "output_type": "display_data"
    }
   ],
   "source": [
    "scaler = StandardScaler()\n",
    "scaler.fit(X)\n",
    "X_scaled = scaler.transform(X)\n",
    "X_scaled_df = pd.DataFrame(X_scaled, columns = X.columns)\n",
    "#display(X.head())\n",
    "#print()\n",
    "display(X_scaled_df.head())"
   ]
  },
  {
   "cell_type": "code",
   "execution_count": 11,
   "metadata": {},
   "outputs": [],
   "source": [
    "filename = \"/Users/mariasoriano/Desktop/song_recommender2/scalers/standard_scaler.pkl\"\n",
    "with open(filename, \"wb\") as file: \n",
    "    pickle.dump(scaler,file)"
   ]
  },
  {
   "cell_type": "markdown",
   "metadata": {},
   "source": [
    "## Clustering  with DBSCAN\n",
    "- Finding Best Epsilon\n",
    "- Model Application"
   ]
  },
  {
   "cell_type": "code",
   "execution_count": 12,
   "metadata": {},
   "outputs": [],
   "source": [
    "from sklearn.neighbors import NearestNeighbors\n",
    "\n",
    "neighbors = NearestNeighbors(n_neighbors=20)\n",
    "neighbors_fit = neighbors.fit(X_scaled_df)\n",
    "distances, indices = neighbors_fit.kneighbors(X_scaled_df)"
   ]
  },
  {
   "cell_type": "code",
   "execution_count": 13,
   "metadata": {},
   "outputs": [
    {
     "data": {
      "text/plain": [
       "[<matplotlib.lines.Line2D at 0x7fd169750460>]"
      ]
     },
     "execution_count": 13,
     "metadata": {},
     "output_type": "execute_result"
    },
    {
     "data": {
      "image/png": "[encoded data removed]",
      "text/plain": [
       "<Figure size 432x288 with 1 Axes>"
      ]
     },
     "metadata": {
      "needs_background": "light"
     },
     "output_type": "display_data"
    }
   ],
   "source": [
    "distances2 = distances\n",
    "distances2 = np.sort(distances2, axis=0)\n",
    "distances2 = distances2[:,1]\n",
    "epsilon = 1.9\n",
    "plt.axhline(epsilon, color='red', linewidth=0.5)\n",
    "plt.axhline(epsilon, color='red', linewidth=0.5)\n",
    "plt.plot(distances2)"
   ]
  },
  {
   "cell_type": "markdown",
   "metadata": {},
   "source": [
    "#### Model Application"
   ]
  },
  {
   "cell_type": "code",
   "execution_count": 14,
   "metadata": {},
   "outputs": [],
   "source": [
    "from sklearn.cluster import DBSCAN\n",
    "from scipy.spatial import distance_matrix"
   ]
  },
  {
   "cell_type": "code",
   "execution_count": 17,
   "metadata": {},
   "outputs": [],
   "source": [
    "model = DBSCAN(eps=1.9, min_samples=15)\n",
    "\n",
    "# Let's save the model in a pickle\n",
    "filename = \"/Users/mariasoriano/Desktop/song_recommender2/model/dbscan.pickle\" # Path with filename\n",
    "with open(filename, \"wb\") as file:\n",
    "    pickle.dump(model,file)\n",
    "    \n",
    "yhat = model.fit_predict(X_scaled_df)"
   ]
  },
  {
   "cell_type": "code",
   "execution_count": 18,
   "metadata": {},
   "outputs": [
    {
     "data": {
      "text/plain": [
       "array([-1,  0,  1,  2,  3,  4])"
      ]
     },
     "execution_count": 18,
     "metadata": {},
     "output_type": "execute_result"
    }
   ],
   "source": [
    "clusters = np.unique(yhat)\n",
    "clusters"
   ]
  },
  {
   "cell_type": "code",
   "execution_count": 20,
   "metadata": {},
   "outputs": [],
   "source": [
    "hot100 = concated_hot100.copy()\n",
    "hot100['cluster'] = yhat[:100]\n",
    "hot100.to_csv('/Users/mariasoriano/Desktop/song_recommender2/data/hot100_clustered_dbscan.csv')"
   ]
  },
  {
   "cell_type": "code",
   "execution_count": 21,
   "metadata": {},
   "outputs": [],
   "source": [
    "not_hot100 = concated_nothot.copy()\n",
    "not_hot100['cluster'] = yhat[100:]\n",
    "not_hot100.to_csv('/Users/mariasoriano/Desktop/Ironhack/lab-web-scraping-single-page/data/nothot_clustered_dbscan.csv')"
   ]
  },
  {
   "cell_type": "code",
   "execution_count": null,
   "metadata": {},
   "outputs": [],
   "source": []
  }
 ],
 "metadata": {
  "interpreter": {
   "hash": "aee8b7b246df8f9039afb4144a1f6fd8d2ca17a180786b69acc140d282b71a49"
  },
  "kernelspec": {
   "display_name": "Python 3.9.1 64-bit",
   "language": "python",
   "name": "python3"
  },
  "language_info": {
   "codemirror_mode": {
    "name": "ipython",
    "version": 3
   },
   "file_extension": ".py",
   "mimetype": "text/x-python",
   "name": "python",
   "nbconvert_exporter": "python",
   "pygments_lexer": "ipython3",
   "version": "3.9.1"
  },
  "orig_nbformat": 4
 },
 "nbformat": 4,
 "nbformat_minor": 2
}
