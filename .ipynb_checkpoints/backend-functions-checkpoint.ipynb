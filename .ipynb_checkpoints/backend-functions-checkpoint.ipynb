{
 "cells": [
  {
   "cell_type": "markdown",
   "metadata": {},
   "source": [
    "# Extending the internal databases with audio features\n",
    "\n",
    "\n",
    "- **Create a function to search a given song in the Spotify API: search_song().** Take into account that sometimes Spotify's API will return several matches for the same song title (different artists, a different album of the same artist, version of the song,...etc). Then it will be nice to display a list of outputs to the user and let him/her select which is the right match. Once the desired song is located, the function should return the href/id/uri of the song to the code (not to the user).\n",
    "- **Create a function \"get_audio_features(list_of_songs)\"** to obtain the audio features of a given list of songs (the content of list_of_songs can be the href/id/uri). Then, use this function to create a Pandas Dataframe with the audio features of the list of songs. Hint: create a dictionary with the song's audio features as keys and an empty list as values. Then fill in the lists with the corresponding audio features of each song. Finally, create your data frame from the dictionary. Bear in mind the following: This API has a restriction on the number of requests per minute, therefore, consider launching the search using smaller groups of songs.\n",
    "- Once the previous function has been created, **create another function \"add_audio_features(df, audio_features_df)\" to concat a given data frame with the data frame containing the audio features alongside any other desired info, and return the extended data frame.\n",
    "Replace the old internal files of songs (hot and not hot) with the extended data frames with the audio features and save them into separate files on the disk.**"
   ]
  },
  {
   "cell_type": "code",
   "execution_count": 2,
   "metadata": {},
   "outputs": [],
   "source": [
    "import sys\n",
    "sys.path.insert(1, '/Users/mariasoriano/Desktop/Ironhack/lab-web-scraping-single-page/config.py')\n",
    "from config import *"
   ]
  },
  {
   "cell_type": "code",
   "execution_count": 3,
   "metadata": {},
   "outputs": [],
   "source": [
    "import spotipy\n",
    "import json\n",
    "from spotipy.oauth2 import SpotifyClientCredentials\n",
    "import pandas as pd"
   ]
  },
  {
   "cell_type": "code",
   "execution_count": 4,
   "metadata": {},
   "outputs": [],
   "source": [
    "sp = spotipy.Spotify(auth_manager=SpotifyClientCredentials(client_id= client_id,\n",
    "                                                           client_secret= client_secret_id))"
   ]
  },
  {
   "cell_type": "markdown",
   "metadata": {},
   "source": [
    "**Function to search a given song in the Spotify API: search_song()**"
   ]
  },
  {
   "cell_type": "code",
   "execution_count": 5,
   "metadata": {},
   "outputs": [],
   "source": [
    "def search_song(song):\n",
    "    try:\n",
    "        song = sp.search(q=song)#, limit=5)\n",
    "        return song[\"tracks\"][\"items\"][0][\"id\"]\n",
    "    except:\n",
    "        return \"\"\n",
    "\n",
    "#return the href/id/uri of the song to the code (not to the user)"
   ]
  },
  {
   "cell_type": "code",
   "execution_count": 8,
   "metadata": {},
   "outputs": [
    {
     "data": {
      "text/plain": [
       "{'danceability': 0.728,\n",
       " 'energy': 0.859,\n",
       " 'key': 5,\n",
       " 'loudness': -5.237,\n",
       " 'mode': 0,\n",
       " 'speechiness': 0.137,\n",
       " 'acousticness': 0.0401,\n",
       " 'instrumentalness': 0,\n",
       " 'liveness': 0.111,\n",
       " 'valence': 0.535,\n",
       " 'tempo': 65.043,\n",
       " 'type': 'audio_features',\n",
       " 'id': '6epn3r7S14KUqlReYr77hA',\n",
       " 'uri': 'spotify:track:6epn3r7S14KUqlReYr77hA',\n",
       " 'track_href': 'https://api.spotify.com/v1/tracks/6epn3r7S14KUqlReYr77hA',\n",
       " 'analysis_url': 'https://api.spotify.com/v1/audio-analysis/6epn3r7S14KUqlReYr77hA',\n",
       " 'duration_ms': 214240,\n",
       " 'time_signature': 4}"
      ]
     },
     "execution_count": 8,
     "metadata": {},
     "output_type": "execute_result"
    }
   ],
   "source": [
    "#trying some stuff\n",
    "search_song('baby')\n",
    "sp.audio_features(baby)[0]"
   ]
  },
  {
   "cell_type": "markdown",
   "metadata": {},
   "source": [
    "**Function to obtain the audio features of a given list of songs: get_audio_features()**"
   ]
  },
  {
   "cell_type": "markdown",
   "metadata": {},
   "source": [
    "Create a function \"get_audio_features(list_of_songs)\" to obtain the audio features of a given list of songs (the content of list_of_songs can be the href/id/uri). Then, use this function to create a Pandas Dataframe with the audio features of the list of songs. Hint: create a dictionary with the song's audio features as keys and an empty list as values. Then fill in the lists with the corresponding audio features of each song. Finally, create your data frame from the dictionary. Bear in mind the following: This API has a restriction on the number of requests per minute, therefore, consider launching the search using smaller groups of songs."
   ]
  },
  {
   "cell_type": "code",
   "execution_count": 9,
   "metadata": {},
   "outputs": [],
   "source": [
    "def get_audio_features(list_of_songs):\n",
    "    #obtain audio features\n",
    "    song_ids = [search_song(song) for song in list_of_songs]\n",
    "    black_features = { 'danceability': \"Null\",\n",
    "                'energy': \"Null\",\n",
    "                'key': \"Null\",\n",
    "                'loudness': \"Null\",\n",
    "                'mode': \"Null\",\n",
    "                'speechiness': \"Null\",\n",
    "                'acousticness': \"Null\",\n",
    "                'instrumentalness': \"Null\",\n",
    "                'liveness': \"Null\",\n",
    "                'valence': \"Null\",\n",
    "                'tempo': \"Null\",\n",
    "                'duration_ms': \"Null\",\n",
    "                'time_signature': \"Null\"\n",
    "                }\n",
    "    song_features = [sp.audio_features(song_id) if song_id != \"\" else black_features for song_id in song_ids]\n",
    "    \n",
    "    #dictionary with the song's audio features as 'key' - empty list as 'values'.\n",
    "    features = { 'danceability': [],\n",
    "                'energy': [],\n",
    "                'key': [],\n",
    "                'loudness': [],\n",
    "                'mode': [],\n",
    "                'speechiness': [],\n",
    "                'acousticness': [],\n",
    "                'instrumentalness': [],\n",
    "                'liveness': [],\n",
    "                'valence': [],\n",
    "                'tempo': [],\n",
    "                'duration_ms': [],\n",
    "                'time_signature': []\n",
    "                }\n",
    "    #[features[key].append(song[key]) for song in song_features for key in list(features.keys())]   \n",
    "    for index, song_id in enumerate(song_ids):\n",
    "        print(\"Getting audio features for song id: \",song_id)\n",
    "        for key in list(features.keys()):\n",
    "            features[key].append(song_features[index][0][key])\n",
    "    \n",
    "    #create a Pandas DataFrame\n",
    "    audio_features_df = pd.DataFrame(features)\n",
    "    return audio_features_df\n"
   ]
  },
  {
   "cell_type": "code",
   "execution_count": 10,
   "metadata": {},
   "outputs": [],
   "source": [
    "not_hot = pd.read_csv('/Users/mariasoriano/Desktop/Ironhack/lab-web-scraping-single-page/nothot_100.csv')"
   ]
  },
  {
   "cell_type": "code",
   "execution_count": 12,
   "metadata": {},
   "outputs": [
    {
     "data": {
      "text/html": [
       "<div>\n",
       "<style scoped>\n",
       "    .dataframe tbody tr th:only-of-type {\n",
       "        vertical-align: middle;\n",
       "    }\n",
       "\n",
       "    .dataframe tbody tr th {\n",
       "        vertical-align: top;\n",
       "    }\n",
       "\n",
       "    .dataframe thead th {\n",
       "        text-align: right;\n",
       "    }\n",
       "</style>\n",
       "<table border=\"1\" class=\"dataframe\">\n",
       "  <thead>\n",
       "    <tr style=\"text-align: right;\">\n",
       "      <th></th>\n",
       "      <th>name</th>\n",
       "      <th>album</th>\n",
       "      <th>artists</th>\n",
       "      <th>year</th>\n",
       "    </tr>\n",
       "  </thead>\n",
       "  <tbody>\n",
       "    <tr>\n",
       "      <th>55897</th>\n",
       "      <td>Sketch</td>\n",
       "      <td>Sound Puzzle</td>\n",
       "      <td>'40 Winks'</td>\n",
       "      <td>2007</td>\n",
       "    </tr>\n",
       "    <tr>\n",
       "      <th>215062</th>\n",
       "      <td>EK ISHQ EK ROOH</td>\n",
       "      <td>EK ISHQ EK ROOH</td>\n",
       "      <td>'Sufi Parveen'</td>\n",
       "      <td>2019</td>\n",
       "    </tr>\n",
       "    <tr>\n",
       "      <th>70429</th>\n",
       "      <td>ComfyCozy</td>\n",
       "      <td>Chicago,Detroit,Redruth</td>\n",
       "      <td>'Luke Vibert'</td>\n",
       "      <td>2007</td>\n",
       "    </tr>\n",
       "    <tr>\n",
       "      <th>103209</th>\n",
       "      <td>See You Later Fuckface</td>\n",
       "      <td>Pleasant Screams</td>\n",
       "      <td>'The Queers'</td>\n",
       "      <td>2002</td>\n",
       "    </tr>\n",
       "    <tr>\n",
       "      <th>679327</th>\n",
       "      <td>Stop Running</td>\n",
       "      <td>no sense in waiting</td>\n",
       "      <td>'cerulean'</td>\n",
       "      <td>2005</td>\n",
       "    </tr>\n",
       "    <tr>\n",
       "      <th>...</th>\n",
       "      <td>...</td>\n",
       "      <td>...</td>\n",
       "      <td>...</td>\n",
       "      <td>...</td>\n",
       "    </tr>\n",
       "    <tr>\n",
       "      <th>581255</th>\n",
       "      <td>Symphony in F Major, VB 145: III. Presto</td>\n",
       "      <td>Kraus: Symphonies, Vol. 4</td>\n",
       "      <td>'Joseph Martin Kraus', 'Swedish Chamber Orches...</td>\n",
       "      <td>2002</td>\n",
       "    </tr>\n",
       "    <tr>\n",
       "      <th>604391</th>\n",
       "      <td>Organ Sonata in B-Flat Major, Wq. 70/2: III. A...</td>\n",
       "      <td>C.P.E. Bach: Organ Sonatas</td>\n",
       "      <td>'Carl Philipp Emanuel Bach', 'Iain Quinn'</td>\n",
       "      <td>2016</td>\n",
       "    </tr>\n",
       "    <tr>\n",
       "      <th>757216</th>\n",
       "      <td>Death</td>\n",
       "      <td>Opus Arcana</td>\n",
       "      <td>'Ian Ring'</td>\n",
       "      <td>2018</td>\n",
       "    </tr>\n",
       "    <tr>\n",
       "      <th>119023</th>\n",
       "      <td>Riderbrow</td>\n",
       "      <td>Styles Of The Unexpected</td>\n",
       "      <td>'Andy Votel'</td>\n",
       "      <td>2000</td>\n",
       "    </tr>\n",
       "    <tr>\n",
       "      <th>576324</th>\n",
       "      <td>Need You - ShockOne Remix</td>\n",
       "      <td>Need You (Remixes)</td>\n",
       "      <td>'Dillon Francis', 'NGHTMRE', 'ShockOne'</td>\n",
       "      <td>2016</td>\n",
       "    </tr>\n",
       "  </tbody>\n",
       "</table>\n",
       "<p>240805 rows × 4 columns</p>\n",
       "</div>"
      ],
      "text/plain": [
       "                                                     name  \\\n",
       "55897                                              Sketch   \n",
       "215062                                    EK ISHQ EK ROOH   \n",
       "70429                                           ComfyCozy   \n",
       "103209                             See You Later Fuckface   \n",
       "679327                                       Stop Running   \n",
       "...                                                   ...   \n",
       "581255           Symphony in F Major, VB 145: III. Presto   \n",
       "604391  Organ Sonata in B-Flat Major, Wq. 70/2: III. A...   \n",
       "757216                                              Death   \n",
       "119023                                          Riderbrow   \n",
       "576324                          Need You - ShockOne Remix   \n",
       "\n",
       "                             album  \\\n",
       "55897                 Sound Puzzle   \n",
       "215062             EK ISHQ EK ROOH   \n",
       "70429      Chicago,Detroit,Redruth   \n",
       "103209            Pleasant Screams   \n",
       "679327         no sense in waiting   \n",
       "...                            ...   \n",
       "581255   Kraus: Symphonies, Vol. 4   \n",
       "604391  C.P.E. Bach: Organ Sonatas   \n",
       "757216                 Opus Arcana   \n",
       "119023    Styles Of The Unexpected   \n",
       "576324          Need You (Remixes)   \n",
       "\n",
       "                                                  artists  year  \n",
       "55897                                          '40 Winks'  2007  \n",
       "215062                                     'Sufi Parveen'  2019  \n",
       "70429                                       'Luke Vibert'  2007  \n",
       "103209                                       'The Queers'  2002  \n",
       "679327                                         'cerulean'  2005  \n",
       "...                                                   ...   ...  \n",
       "581255  'Joseph Martin Kraus', 'Swedish Chamber Orches...  2002  \n",
       "604391          'Carl Philipp Emanuel Bach', 'Iain Quinn'  2016  \n",
       "757216                                         'Ian Ring'  2018  \n",
       "119023                                       'Andy Votel'  2000  \n",
       "576324            'Dillon Francis', 'NGHTMRE', 'ShockOne'  2016  \n",
       "\n",
       "[240805 rows x 4 columns]"
      ]
     },
     "execution_count": 12,
     "metadata": {},
     "output_type": "execute_result"
    }
   ],
   "source": [
    "songs_list = not_hot.sample(frac=0.2, replace=False, random_state=1)\n",
    "songs_list"
   ]
  },
  {
   "cell_type": "code",
   "execution_count": null,
   "metadata": {},
   "outputs": [],
   "source": [
    "#list(songs_list['name'])[:7]\n",
    "get_audio_features(songs_list['name'])\n",
    "#get_audio_features(list(songs_list['name'])[0])\n",
    "#get_audio_features(list(songs_list['name'])[:7])"
   ]
  },
  {
   "cell_type": "markdown",
   "metadata": {},
   "source": [
    "**Function to concat a given data frame with the data frame containing the audio features alongside any other desired info, and return the extended data frame: \"add_audio_features(df, audio_features_df)\"**"
   ]
  },
  {
   "cell_type": "code",
   "execution_count": null,
   "metadata": {},
   "outputs": [],
   "source": [
    "hot100 = pd.read_csv('/Users/mariasoriano/Desktop/Ironhack/lab-web-scraping-single-page/hot100.csv')"
   ]
  },
  {
   "cell_type": "code",
   "execution_count": null,
   "metadata": {},
   "outputs": [],
   "source": [
    "def add_audio_features(df, audio_features_df):\n",
    "    concated = pd.concat(df, audio_features_df, axis=1)\n",
    "    return concated"
   ]
  },
  {
   "cell_type": "code",
   "execution_count": null,
   "metadata": {},
   "outputs": [],
   "source": [
    "add_audio_features(hot100, audio_features_df)"
   ]
  },
  {
   "cell_type": "markdown",
   "metadata": {},
   "source": [
    "Replace the old internal files of songs (hot and not hot) with the extended data frames with the audio features and save them into separate files on the disk."
   ]
  },
  {
   "cell_type": "code",
   "execution_count": null,
   "metadata": {},
   "outputs": [],
   "source": []
  }
 ],
 "metadata": {
  "kernelspec": {
   "display_name": "Python 3",
   "language": "python",
   "name": "python3"
  },
  "language_info": {
   "codemirror_mode": {
    "name": "ipython",
    "version": 3
   },
   "file_extension": ".py",
   "mimetype": "text/x-python",
   "name": "python",
   "nbconvert_exporter": "python",
   "pygments_lexer": "ipython3",
   "version": "3.8.5"
  },
  "varInspector": {
   "cols": {
    "lenName": 16,
    "lenType": 16,
    "lenVar": 40
   },
   "kernels_config": {
    "python": {
     "delete_cmd_postfix": "",
     "delete_cmd_prefix": "del ",
     "library": "var_list.py",
     "varRefreshCmd": "print(var_dic_list())"
    },
    "r": {
     "delete_cmd_postfix": ") ",
     "delete_cmd_prefix": "rm(",
     "library": "var_list.r",
     "varRefreshCmd": "cat(var_dic_list()) "
    }
   },
   "types_to_exclude": [
    "module",
    "function",
    "builtin_function_or_method",
    "instance",
    "_Feature"
   ],
   "window_display": false
  }
 },
 "nbformat": 4,
 "nbformat_minor": 4
}
