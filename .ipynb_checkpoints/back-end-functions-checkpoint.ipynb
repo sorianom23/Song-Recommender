{
 "cells": [
  {
   "cell_type": "markdown",
   "metadata": {},
   "source": [
    "# Extending the internal databases with audio features\n",
    "\n",
    "\n",
    "- **Create a function to search a given song in the Spotify API: search_song().** Take into account that sometimes Spotify's API will return several matches for the same song title (different artists, a different album of the same artist, version of the song,...etc). Then it will be nice to display a list of outputs to the user and let him/her select which is the right match. Once the desired song is located, the function should return the href/id/uri of the song to the code (not to the user).\n",
    "- **Create a function \"get_audio_features(list_of_songs)\"** to obtain the audio features of a given list of songs (the content of list_of_songs can be the href/id/uri). Then, use this function to create a Pandas Dataframe with the audio features of the list of songs. Hint: create a dictionary with the song's audio features as keys and an empty list as values. Then fill in the lists with the corresponding audio features of each song. Finally, create your data frame from the dictionary. Bear in mind the following: This API has a restriction on the number of requests per minute, therefore, consider launching the search using smaller groups of songs.\n",
    "- Once the previous function has been created, **create another function \"add_audio_features(df, audio_features_df)\" to concat a given data frame with the data frame containing the audio features alongside any other desired info, and return the extended data frame.\n",
    "Replace the old internal files of songs (hot and not hot) with the extended data frames with the audio features and save them into separate files on the disk.**"
   ]
  },
  {
   "cell_type": "code",
   "execution_count": null,
   "metadata": {},
   "outputs": [],
   "source": [
    "import sys\n",
    "sys.path.insert(1, '/Users/mariasoriano/Desktop/Ironhack/lab-web-scraping-single-page/config.py')\n",
    "from config import *"
   ]
  },
  {
   "cell_type": "code",
   "execution_count": null,
   "metadata": {},
   "outputs": [],
   "source": [
    "import spotipy\n",
    "import json\n",
    "from spotipy.oauth2 import SpotifyClientCredentials\n",
    "import pandas as pd"
   ]
  },
  {
   "cell_type": "code",
   "execution_count": null,
   "metadata": {},
   "outputs": [],
   "source": [
    "sp = spotipy.Spotify(auth_manager=SpotifyClientCredentials(client_id= client_id,\n",
    "                                                           client_secret= client_secret_id))"
   ]
  },
  {
   "cell_type": "markdown",
   "metadata": {},
   "source": [
    "**Function to search a given song in the Spotify API: search_song()**"
   ]
  },
  {
   "cell_type": "code",
   "execution_count": null,
   "metadata": {},
   "outputs": [],
   "source": [
    "def search_song(song):\n",
    "    try:\n",
    "        song = sp.search(q=song)#, limit=5)\n",
    "        return song[\"tracks\"][\"items\"][0][\"id\"]\n",
    "    except:\n",
    "        return \"\"\n",
    "\n",
    "#return the href/id/uri of the song to the code (not to the user)"
   ]
  },
  {
   "cell_type": "code",
   "execution_count": null,
   "metadata": {},
   "outputs": [],
   "source": [
    "search_song('baby')"
   ]
  },
  {
   "cell_type": "code",
   "execution_count": null,
   "metadata": {},
   "outputs": [],
   "source": [
    "baby = '6epn3r7S14KUqlReYr77hA'\n",
    "peaches = '4iJyoBOLtHqaGxP12qzhQI'\n",
    "anyone = '1uNFoZAHBGtllmzznpCI3s'\n",
    "haley = '5cKlE8f6b26h61Ml7m052Q'\n",
    "red_eye = '1uNFoZAHBGtllmzznpCI3s'\n",
    "yummy = '1uNFoZAHBGtllmzznpCI3s'\n",
    "\n",
    "sp.audio_features(baby)[0]\n"
   ]
  },
  {
   "cell_type": "code",
   "execution_count": null,
   "metadata": {},
   "outputs": [],
   "source": [
    "justin_list = [baby, peaches, anyone, haley, red_eye, yummy]"
   ]
  },
  {
   "cell_type": "code",
   "execution_count": null,
   "metadata": {},
   "outputs": [],
   "source": [
    "justin_list"
   ]
  },
  {
   "cell_type": "markdown",
   "metadata": {},
   "source": [
    "**Function to obtain the audio features of a given list of songs: get_audio_features()**"
   ]
  },
  {
   "cell_type": "markdown",
   "metadata": {},
   "source": [
    "Create a function \"get_audio_features(list_of_songs)\" to obtain the audio features of a given list of songs (the content of list_of_songs can be the href/id/uri). Then, use this function to create a Pandas Dataframe with the audio features of the list of songs. Hint: create a dictionary with the song's audio features as keys and an empty list as values. Then fill in the lists with the corresponding audio features of each song. Finally, create your data frame from the dictionary. Bear in mind the following: This API has a restriction on the number of requests per minute, therefore, consider launching the search using smaller groups of songs."
   ]
  },
  {
   "cell_type": "code",
   "execution_count": null,
   "metadata": {},
   "outputs": [],
   "source": [
    "def get_audio_features(list_of_songs):\n",
    "    #obtain audio features\n",
    "    song_ids = [search_song(song) for song in list_of_songs]\n",
    "    black_features = { 'danceability': \"Null\",\n",
    "                'energy': \"Null\",\n",
    "                'key': \"Null\",\n",
    "                'loudness': \"Null\",\n",
    "                'mode': \"Null\",\n",
    "                'speechiness': \"Null\",\n",
    "                'acousticness': \"Null\",\n",
    "                'instrumentalness': \"Null\",\n",
    "                'liveness': \"Null\",\n",
    "                'valence': \"Null\",\n",
    "                'tempo': \"Null\",\n",
    "                'duration_ms': \"Null\",\n",
    "                'time_signature': \"Null\"\n",
    "                }\n",
    "    song_features = [sp.audio_features(song_id) if song_id != \"\" else black_features for song_id in song_ids]\n",
    "    \n",
    "    #dictionary with the song's audio features as 'key' - empty list as 'values'.\n",
    "    features = { 'danceability': [],\n",
    "                'energy': [],\n",
    "                'key': [],\n",
    "                'loudness': [],\n",
    "                'mode': [],\n",
    "                'speechiness': [],\n",
    "                'acousticness': [],\n",
    "                'instrumentalness': [],\n",
    "                'liveness': [],\n",
    "                'valence': [],\n",
    "                'tempo': [],\n",
    "                'duration_ms': [],\n",
    "                'time_signature': []\n",
    "                }\n",
    "    #[features[key].append(song[key]) for song in song_features for key in list(features.keys())]   \n",
    "    for index, song_id in enumerate(song_ids):\n",
    "        print(\"Getting audio features for song id: \",song_id)\n",
    "        for key in list(features.keys()):\n",
    "            features[key].append(song_features[index][0][key])\n",
    "    \n",
    "    #create a Pandas DataFrame\n",
    "    audio_features_df = pd.DataFrame(features)\n",
    "    return audio_features_df\n"
   ]
  },
  {
   "cell_type": "code",
   "execution_count": null,
   "metadata": {},
   "outputs": [],
   "source": [
    "list_of_songs = ['baby', 'peaches', 'anyone', 'haley', 'red_eye', 'yummy']\n",
    "list_of_songs\n"
   ]
  },
  {
   "cell_type": "code",
   "execution_count": null,
   "metadata": {},
   "outputs": [],
   "source": [
    "not_hot = pd.read_csv('/Users/mariasoriano/Desktop/Ironhack/lab-web-scraping-single-page/csv_name.csv')"
   ]
  },
  {
   "cell_type": "code",
   "execution_count": null,
   "metadata": {},
   "outputs": [],
   "source": [
    "songs_list = not_hot.sample(frac=0.2, replace=False, random_state=1)\n",
    "songs_list.drop(columns =['Unnamed: 0'],axis = 1, inplace = True)\n",
    "songs_list"
   ]
  },
  {
   "cell_type": "code",
   "execution_count": null,
   "metadata": {},
   "outputs": [],
   "source": [
    "#list(songs_list['name'])[:7]\n",
    "get_audio_features(songs_list['name'])\n",
    "#get_audio_features(list(songs_list['name'])[0])\n",
    "#get_audio_features(list(songs_list['name'])[:7])"
   ]
  },
  {
   "cell_type": "markdown",
   "metadata": {},
   "source": [
    "**Function to concat a given data frame with the data frame containing the audio features alongside any other desired info, and return the extended data frame: \"add_audio_features(df, audio_features_df)\"**"
   ]
  },
  {
   "cell_type": "code",
   "execution_count": null,
   "metadata": {},
   "outputs": [],
   "source": [
    "hot100 = pd.read_csv('/Users/mariasoriano/Desktop/Ironhack/lab-web-scraping-single-page/hot100.csv')"
   ]
  },
  {
   "cell_type": "code",
   "execution_count": null,
   "metadata": {},
   "outputs": [],
   "source": [
    "def add_audio_features(df, audio_features_df):\n",
    "    concated = pd.concat(df, audio_features_df, axis=1)\n",
    "    return concated"
   ]
  },
  {
   "cell_type": "code",
   "execution_count": null,
   "metadata": {},
   "outputs": [],
   "source": [
    "add_audio_features(hot100, audio_features_df)"
   ]
  },
  {
   "cell_type": "markdown",
   "metadata": {},
   "source": [
    "Replace the old internal files of songs (hot and not hot) with the extended data frames with the audio features and save them into separate files on the disk."
   ]
  },
  {
   "cell_type": "code",
   "execution_count": null,
   "metadata": {},
   "outputs": [],
   "source": []
  }
 ],
 "metadata": {
  "kernelspec": {
   "display_name": "Python 3",
   "language": "python",
   "name": "python3"
  },
  "language_info": {
   "codemirror_mode": {
    "name": "ipython",
    "version": 3
   },
   "file_extension": ".py",
   "mimetype": "text/x-python",
   "name": "python",
   "nbconvert_exporter": "python",
   "pygments_lexer": "ipython3",
   "version": "3.8.5"
  },
  "varInspector": {
   "cols": {
    "lenName": 16,
    "lenType": 16,
    "lenVar": 40
   },
   "kernels_config": {
    "python": {
     "delete_cmd_postfix": "",
     "delete_cmd_prefix": "del ",
     "library": "var_list.py",
     "varRefreshCmd": "print(var_dic_list())"
    },
    "r": {
     "delete_cmd_postfix": ") ",
     "delete_cmd_prefix": "rm(",
     "library": "var_list.r",
     "varRefreshCmd": "cat(var_dic_list()) "
    }
   },
   "types_to_exclude": [
    "module",
    "function",
    "builtin_function_or_method",
    "instance",
    "_Feature"
   ],
   "window_display": false
  }
 },
 "nbformat": 4,
 "nbformat_minor": 4
}
