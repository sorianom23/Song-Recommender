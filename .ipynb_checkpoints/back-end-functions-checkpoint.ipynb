{
 "cells": [
  {
   "cell_type": "markdown",
   "metadata": {},
   "source": [
    "## Functions\n",
    "#### Extending the internal databases with audio features\n",
    "\n",
    "\n",
    "- **Create a function to search a given song in the Spotify API: search_song().** Take into account that sometimes Spotify's API will return several matches for the same song title (different artists, a different album of the same artist, version of the song,...etc). Then it will be nice to display a list of outputs to the user and let him/her select which is the right match. Once the desired song is located, the function should return the href/id/uri of the song to the code (not to the user).\n",
    "- **Create a function \"get_audio_features(list_of_songs)\"** to obtain the audio features of a given list of songs (the content of list_of_songs can be the href/id/uri). Then, use this function to create a Pandas Dataframe with the audio features of the list of songs. Hint: create a dictionary with the song's audio features as keys and an empty list as values. Then fill in the lists with the corresponding audio features of each song. Finally, create your data frame from the dictionary. Bear in mind the following: This API has a restriction on the number of requests per minute, therefore, consider launching the search using smaller groups of songs.\n",
    "- Once the previous function has been created, **create another function \"add_audio_features(df, audio_features_df)\" to concat a given data frame with the data frame containing the audio features alongside any other desired info, and return the extended data frame.\n",
    "Replace the old internal files of songs (hot and not hot) with the extended data frames with the audio features and save them into separate files on the disk.**"
   ]
  },
  {
   "cell_type": "code",
   "execution_count": null,
   "metadata": {},
   "outputs": [],
   "source": [
    "from email.mime import audio\n",
    "import sys\n",
    "from turtle import title\n",
    "sys.path.insert(1, '/Users/mariasoriano/Desktop/Ironhack/lab-web-scraping-single-page/config.py')\n",
    "from config import *"
   ]
  },
  {
   "cell_type": "code",
   "execution_count": null,
   "metadata": {},
   "outputs": [],
   "source": [
    "import spotipy\n",
    "import json\n",
    "from spotipy.oauth2 import SpotifyClientCredentials\n",
    "import pandas as pd"
   ]
  },
  {
   "cell_type": "code",
   "execution_count": null,
   "metadata": {},
   "outputs": [],
   "source": [
    "sp = spotipy.Spotify(auth_manager=SpotifyClientCredentials(client_id= client_id,\n",
    "                                                           client_secret= client_secret_id))"
   ]
  },
  {
   "cell_type": "code",
   "execution_count": null,
   "metadata": {},
   "outputs": [],
   "source": []
  },
  {
   "cell_type": "markdown",
   "metadata": {},
   "source": [
    "**Function to search a given song in the Spotify API: search_song()**"
   ]
  },
  {
   "cell_type": "code",
   "execution_count": null,
   "metadata": {},
   "outputs": [],
   "source": [
    "def search_song(song):\n",
    "    try:\n",
    "        song = sp.search(q=song, limit=5)\n",
    "        return song[\"tracks\"][\"items\"][0][\"id\"]\n",
    "    except:\n",
    "        return \"\"\n",
    "\n",
    "#return the href/id/uri of the song to the code (not to the user)"
   ]
  },
  {
   "cell_type": "code",
   "execution_count": null,
   "metadata": {},
   "outputs": [],
   "source": []
  },
  {
   "cell_type": "markdown",
   "metadata": {},
   "source": [
    "**Function to obtain the audio features of a given list of songs: get_audio_features()**"
   ]
  },
  {
   "cell_type": "markdown",
   "metadata": {},
   "source": [
    "Create a function \"get_audio_features(list_of_songs)\" to obtain the audio features of a given list of songs (the content of list_of_songs can be the href/id/uri). Then, use this function to create a Pandas Dataframe with the audio features of the list of songs. Hint: create a dictionary with the song's audio features as keys and an empty list as values. Then fill in the lists with the corresponding audio features of each song. Finally, create your data frame from the dictionary. Bear in mind the following: This API has a restriction on the number of requests per minute, therefore, consider launching the search using smaller groups of songs."
   ]
  },
  {
   "cell_type": "code",
   "execution_count": null,
   "metadata": {},
   "outputs": [],
   "source": [
    "'''def get_audio_features(list_of_songs):\n",
    "    import math\n",
    "    import pickle\n",
    "    import pandas as pd\n",
    "    import sys\n",
    "    import spotipy\n",
    "    from spotipy.oauth2 import SpotifyClientCredentials\n",
    "    from time import sleep\n",
    "    \n",
    "    song_ids = []\n",
    "\n",
    "    black = {'danceability': \"Null\", \n",
    "           'energy': \"Null\", \n",
    "           'key': \"Null\",\n",
    "           'loudness': \"Null\", \n",
    "           'mode':\"Null\", \n",
    "           'speechiness': \"Null\", \n",
    "           'acousticness': \"Null\", \n",
    "           'instrumentalness': \"Null\", \n",
    "            'liveness': \"Null\", \n",
    "            'valence': \"Null\", \n",
    "            'tempo': \"Null\", \n",
    "            'type': \"Null\", \n",
    "            'id': \"Null\", \n",
    "            'uri': \"Null\", \n",
    "            'track_href': \"Null\", \n",
    "            'analysis_url': \"Null\", \n",
    "            'duration_ms': \"Null\", \n",
    "            'time_signature': \"Null\"}\n",
    "    \n",
    "    keys = list(black.keys())\n",
    "    \n",
    "    df = pd.DataFrame()\n",
    "    chunks = math.ceil(len(list_of_songs)/1000)\n",
    "    for i in range(chunks): # chunks = 4 -> 0,1,2,3\n",
    "        song_ids = []\n",
    "        if ( i < chunks-1 ):\n",
    "            j = i + 1\n",
    "        else:\n",
    "            j = len(list_of_songs)\n",
    "        for index, song in enumerate(list_of_songs[1000*i:1000*j]): #[0:1000],[1000:2000],[2000:3000],[3000:]\n",
    "            print(\"Looking for song: \",index)\n",
    "            try:\n",
    "                songs = sp.search(q=song, limit=1)\n",
    "                song_ids.append(songs['tracks']['items'][0]['id'])\n",
    "            except: # Si no esta no se para.\n",
    "                print(song)\n",
    "                song_ids.append(\"\")\n",
    "    \n",
    "        print(\"Getting audio features\")\n",
    "        audio_feats = [sp.audio_features(song_id)[0] if ((song_id != None) and ( song_id != \"\")) else black for song_id in song_ids]\n",
    "        name = \"audio_feats_\" + str(i) + \".pkl\"\n",
    "        with open(name, \"wb\") as handle:\n",
    "            pickle.dump(audio_feats,handle)\n",
    "        print(\"Created file: \",name)\n",
    "        sleep(10)\n",
    "        print('Sleeping for 10 seconds')\n",
    "        '''"
   ]
  },
  {
   "cell_type": "code",
   "execution_count": null,
   "metadata": {},
   "outputs": [],
   "source": [
    "not_hot = pd.read_csv('/Users/mariasoriano/Desktop/Ironhack/lab-web-scraping-single-page/nothot_100.csv')"
   ]
  },
  {
   "cell_type": "code",
   "execution_count": null,
   "metadata": {},
   "outputs": [],
   "source": [
    "songs_list = not_hot.sample(frac=0.0017, replace=False, random_state=1)\n",
    "#songs_list"
   ]
  },
  {
   "cell_type": "code",
   "execution_count": null,
   "metadata": {},
   "outputs": [],
   "source": [
    "hot100 = pd.read_csv('/Users/mariasoriano/Desktop/Ironhack/lab-web-scraping-single-page/hot100.csv')"
   ]
  },
  {
   "cell_type": "code",
   "execution_count": null,
   "metadata": {},
   "outputs": [],
   "source": [
    "#get_hot100(['title'])"
   ]
  },
  {
   "cell_type": "code",
   "execution_count": null,
   "metadata": {},
   "outputs": [],
   "source": [
    "#list(songs_list['name'])[:7]\n",
    "# -> get_audio_features(hot100['title'])\n",
    "#get_audio_features(list(songs_list['name'])[0])\n",
    "#get_audio_features(list(songs_list['name'])[:7])"
   ]
  },
  {
   "cell_type": "markdown",
   "metadata": {},
   "source": [
    "**Function to concat a given data frame with the data frame containing the audio features alongside any other desired info, and return the extended data frame: \"add_audio_features(df, audio_features_df)\"**"
   ]
  },
  {
   "cell_type": "code",
   "execution_count": null,
   "metadata": {},
   "outputs": [],
   "source": [
    "#def add_audio_features(df, audio_features_df):\n",
    "#    concated = pd.concat([df, audio_features_df], axis=1)\n",
    "#    return concated"
   ]
  },
  {
   "cell_type": "code",
   "execution_count": null,
   "metadata": {},
   "outputs": [],
   "source": [
    "#add_audio_features(hot100, audio_features_df)"
   ]
  },
  {
   "cell_type": "markdown",
   "metadata": {},
   "source": [
    "Replace the old internal files of songs (hot and not hot) with the extended data frames with the audio features and save them into separate files on the disk."
   ]
  },
  {
   "cell_type": "code",
   "execution_count": null,
   "metadata": {},
   "outputs": [],
   "source": [
    "def get_audio_features(list_of_songs):\n",
    "    import math\n",
    "    import pickle\n",
    "    import pandas as pd\n",
    "    import sys\n",
    "    import spotipy\n",
    "    from spotipy.oauth2 import SpotifyClientCredentials\n",
    "    from time import sleep\n",
    "    \n",
    "    song_ids = []\n",
    "\n",
    "    black = {'danceability': \"Null\", \n",
    "           'energy': \"Null\", \n",
    "           'key': \"Null\",\n",
    "           'loudness': \"Null\", \n",
    "           'mode':\"Null\", \n",
    "           'speechiness': \"Null\", \n",
    "           'acousticness': \"Null\", \n",
    "           'instrumentalness': \"Null\", \n",
    "            'liveness': \"Null\", \n",
    "            'valence': \"Null\", \n",
    "            'tempo': \"Null\", \n",
    "            'type': \"Null\", \n",
    "            'id': \"Null\", \n",
    "            'uri': \"Null\", \n",
    "             'track_href': \"Null\", \n",
    "            'analysis_url': \"Null\", \n",
    "            'duration_ms': \"Null\", \n",
    "            'time_signature': \"Null\"}\n",
    "    \n",
    "    keys = list(black.keys())\n",
    "    \n",
    "    df = pd.DataFrame()\n",
    "    chunks = math.ceil(len(list_of_songs)/2500)\n",
    "    for i in range(chunks): # chunks = 4 -> 0,1,2,3\n",
    "        song_ids = []\n",
    "        if ( i < chunks-1 ):\n",
    "            j = i + 1\n",
    "        else:\n",
    "            j = len(list_of_songs)\n",
    "        for index, song in enumerate(list_of_songs[2500*i:2500*j]): #[0:1000],[1000:2000],[2000:3000],[3000:]\n",
    "            print(\"Looking for song: \",index)\n",
    "            try:\n",
    "                songs = sp.search(q=song, limit=1)\n",
    "                song_ids.append(songs['tracks']['items'][0]['id'])\n",
    "            except: # Si no esta no se para.\n",
    "                print(song)\n",
    "                song_ids.append(\"\")\n",
    "    \n",
    "        print(\"Getting audio features\")\n",
    "    audio_feats = [sp.audio_features(song_id)[0] if ((song_id != None) and ( song_id != \"\")) else black for song_id in song_ids]\n",
    "    #else black for song_id in song_ids]\n",
    "    name = \"audio_feats_\" + str[i] + \".pkl\"\n",
    "    with open(name, \"wb\") as handle:\n",
    "        pickle.dump(audio_feats,handle)\n",
    "    print(\"Created file: \",name)\n",
    "    sleep(10)\n",
    "    print('Sleeping for 10 seconds')"
   ]
  },
  {
   "cell_type": "code",
   "execution_count": null,
   "metadata": {},
   "outputs": [],
   "source": [
    "get_audio_features(hot100['title'])"
   ]
  },
  {
   "cell_type": "code",
   "execution_count": null,
   "metadata": {},
   "outputs": [],
   "source": []
  },
  {
   "cell_type": "code",
   "execution_count": null,
   "metadata": {},
   "outputs": [],
   "source": [
    "#define hot100\n",
    "hot100 = pd.read_csv('/Users/mariasoriano/Desktop/Ironhack/lab-web-scraping-single-page/hot100.csv')"
   ]
  },
  {
   "cell_type": "code",
   "execution_count": null,
   "metadata": {},
   "outputs": [],
   "source": [
    "#get audio features for the hot100 billboard list\n",
    "get_audio_features(hot100['title'])"
   ]
  },
  {
   "cell_type": "code",
   "execution_count": null,
   "metadata": {},
   "outputs": [],
   "source": [
    "#transform the pkl into a dataframe\n",
    "import pickle\n",
    "import glob\n",
    "\n",
    "pkls = glob.glob(\"*.pkl\")\n",
    "pkls.sort()\n",
    "pkls\n",
    "\n",
    "for pkl in pkls:\n",
    "    try:\n",
    "        print(pkl)\n",
    "        with open(pkl, \"rb\") as handle:\n",
    "            audio_feats_nothot = pickle.load(handle)\n",
    "            audio_feats_nothot = (pd.DataFrame(audio_feats_nothot))\n",
    "    except:\n",
    "        print(\"Corrupted\",pkl)\n",
    "        continue"
   ]
  },
  {
   "cell_type": "code",
   "execution_count": null,
   "metadata": {},
   "outputs": [],
   "source": [
    "audio_feats_100"
   ]
  },
  {
   "cell_type": "code",
   "execution_count": null,
   "metadata": {},
   "outputs": [],
   "source": [
    "#concat hot100songs from billboard + it's own audio features from spotify\n",
    "concated_features100 = pd.concat([hot100, audio_feats_100], axis = 1)"
   ]
  },
  {
   "cell_type": "code",
   "execution_count": null,
   "metadata": {},
   "outputs": [],
   "source": [
    "concated_features100.head()"
   ]
  },
  {
   "cell_type": "code",
   "execution_count": null,
   "metadata": {},
   "outputs": [],
   "source": [
    "concated_features100.isnull().sum()"
   ]
  },
  {
   "cell_type": "code",
   "execution_count": null,
   "metadata": {},
   "outputs": [],
   "source": [
    "#define nothot songs list\n",
    "nothot = pd.read_csv('/Users/mariasoriano/Desktop/Ironhack/lab-web-scraping-single-page/nothotsongs.csv')"
   ]
  },
  {
   "cell_type": "code",
   "execution_count": null,
   "metadata": {},
   "outputs": [],
   "source": [
    "nothot.head()"
   ]
  },
  {
   "cell_type": "code",
   "execution_count": null,
   "metadata": {},
   "outputs": [],
   "source": [
    "nothot.shape"
   ]
  },
  {
   "cell_type": "code",
   "execution_count": null,
   "metadata": {},
   "outputs": [],
   "source": [
    "get_audio_features(nothot['name'])"
   ]
  },
  {
   "cell_type": "code",
   "execution_count": null,
   "metadata": {
    "scrolled": true
   },
   "outputs": [],
   "source": [
    "import pickle\n",
    "import glob\n",
    "\n",
    "pkls = glob.glob(\"*.pkl\")\n",
    "pkls.sort()\n",
    "pkls\n",
    "\n",
    "for pkl in pkls:\n",
    "    try:\n",
    "        print(pkl)\n",
    "        with open(pkl, \"rb\") as handle:\n",
    "            audio_feats_nothot = pickle.load(handle)\n",
    "            display(pd.DataFrame(audio_feats_nothot))\n",
    "            #audio_feats_df_nothot = (pd.DataFrame(audio_feats_nothot))\n",
    "    except:\n",
    "        print(\"Corrupted\",pkl)\n",
    "        continue"
   ]
  },
  {
   "cell_type": "code",
   "execution_count": null,
   "metadata": {},
   "outputs": [],
   "source": [
    "audio_feats_df_nothot.tail()"
   ]
  },
  {
   "cell_type": "code",
   "execution_count": null,
   "metadata": {},
   "outputs": [],
   "source": [
    "concated_features_nothot = pd.concat([nothot, audio_feats_df_nothot], axis = 1)"
   ]
  },
  {
   "cell_type": "code",
   "execution_count": null,
   "metadata": {},
   "outputs": [],
   "source": [
    "concated_features_nothot.head()"
   ]
  },
  {
   "cell_type": "code",
   "execution_count": null,
   "metadata": {},
   "outputs": [],
   "source": [
    "concated_features_nothot.isnull().sum()"
   ]
  },
  {
   "cell_type": "code",
   "execution_count": null,
   "metadata": {},
   "outputs": [],
   "source": []
  }
 ],
 "metadata": {
  "kernelspec": {
   "display_name": "Python 3",
   "language": "python",
   "name": "python3"
  },
  "language_info": {
   "codemirror_mode": {
    "name": "ipython",
    "version": 3
   },
   "file_extension": ".py",
   "mimetype": "text/x-python",
   "name": "python",
   "nbconvert_exporter": "python",
   "pygments_lexer": "ipython3",
   "version": "3.8.5"
  },
  "varInspector": {
   "cols": {
    "lenName": 16,
    "lenType": 16,
    "lenVar": 40
   },
   "kernels_config": {
    "python": {
     "delete_cmd_postfix": "",
     "delete_cmd_prefix": "del ",
     "library": "var_list.py",
     "varRefreshCmd": "print(var_dic_list())"
    },
    "r": {
     "delete_cmd_postfix": ") ",
     "delete_cmd_prefix": "rm(",
     "library": "var_list.r",
     "varRefreshCmd": "cat(var_dic_list()) "
    }
   },
   "types_to_exclude": [
    "module",
    "function",
    "builtin_function_or_method",
    "instance",
    "_Feature"
   ],
   "window_display": false
  }
 },
 "nbformat": 4,
 "nbformat_minor": 4
}
