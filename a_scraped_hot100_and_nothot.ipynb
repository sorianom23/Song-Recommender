{
 "cells": [
  {
   "cell_type": "markdown",
   "metadata": {},
   "source": [
    "\n",
    "# Creationg of a song recommender\n",
    "To start with this new project I will start by **scraping popular songs** from the **Billboard top 100 chart.** After that I will **create a function** **(scrape_hot100)** that will scrape the 100 top Billboard chart:\n",
    "(https://www.billboard.com/charts/hot-100)\n",
    "\n",
    "\n",
    "\n",
    "\n",
    "\n",
    "Let's start now by importing all the necessary libraries:"
   ]
  },
  {
   "cell_type": "code",
   "execution_count": null,
   "metadata": {},
   "outputs": [],
   "source": [
    "from bs4 import BeautifulSoup\n",
    "import requests\n",
    "import pandas as pd\n",
    "import numpy as np"
   ]
  },
  {
   "cell_type": "code",
   "execution_count": null,
   "metadata": {},
   "outputs": [],
   "source": [
    "url = \"https://www.billboard.com/charts/hot-100/\""
   ]
  },
  {
   "cell_type": "code",
   "execution_count": null,
   "metadata": {},
   "outputs": [],
   "source": [
    "response = requests.get(url)\n",
    "print(response.status_code)"
   ]
  },
  {
   "cell_type": "code",
   "execution_count": null,
   "metadata": {},
   "outputs": [],
   "source": [
    "soup = BeautifulSoup(response.text, 'html.parser')\n",
    "#print(soup.prettify())"
   ]
  },
  {
   "cell_type": "code",
   "execution_count": null,
   "metadata": {},
   "outputs": [],
   "source": [
    "# empty lists to store artists and titles\n",
    "titles = []\n",
    "artists = []"
   ]
  },
  {
   "cell_type": "code",
   "execution_count": null,
   "metadata": {},
   "outputs": [],
   "source": [
    "# for loop to get all the titles and store them in our list\n",
    "for i in soup.select(\"li.o-chart-results-list__item > h3\"):\n",
    "    titles.append(i.get_text().strip())"
   ]
  },
  {
   "cell_type": "code",
   "execution_count": null,
   "metadata": {},
   "outputs": [],
   "source": [
    " #for loop to get all the artists and store them in our list\n",
    "for i in soup.select(\"li.o-chart-results-list__item > span:nth-child(2)\"):\n",
    "    artists.append(i.get_text().strip())\n",
    "    #i.get_text().replace('\\n',\"\")"
   ]
  },
  {
   "cell_type": "code",
   "execution_count": null,
   "metadata": {},
   "outputs": [],
   "source": [
    "# cleanning artists list\n",
    "artists = [x for x in artists if x != 'NEW' and x != 'RE-\\nENTRY']"
   ]
  },
  {
   "cell_type": "code",
   "execution_count": null,
   "metadata": {},
   "outputs": [],
   "source": [
    "# let's check again the lenght of our lists\n",
    "# if they are not the same lenght we will not be able to create our dataframe\n",
    "print(len(artists))\n",
    "print(len(titles))"
   ]
  },
  {
   "cell_type": "code",
   "execution_count": null,
   "metadata": {},
   "outputs": [],
   "source": [
    "hot100 = pd.DataFrame({\n",
    "                        \"title\":titles,\n",
    "                        \"artist\":artists\n",
    "                      })"
   ]
  },
  {
   "cell_type": "code",
   "execution_count": null,
   "metadata": {},
   "outputs": [],
   "source": [
    "hot100.head(10)"
   ]
  },
  {
   "cell_type": "markdown",
   "metadata": {},
   "source": [
    "Next I'm doing the exact same but I am putting it all together inside of a **function that scrapes the current top 100 songs present at:** https://www.billboard.com/charts/hot-100 "
   ]
  },
  {
   "cell_type": "code",
   "execution_count": null,
   "metadata": {},
   "outputs": [],
   "source": [
    "#%%writefile -a functions.py\n",
    "\n",
    "def scrape_hot100 (url):\n",
    "    from bs4 import BeautifulSoup\n",
    "    import requests\n",
    "    import pandas as pd\n",
    "    import numpy as np\n",
    "    \n",
    "    titles = []\n",
    "    artists = []\n",
    "    \n",
    "    for i in soup.select(\"li.o-chart-results-list__item > h3\"):\n",
    "        titles.append(i.get_text().strip())\n",
    "    \n",
    "    for i in soup.select(\"li.o-chart-results-list__item > span:nth-child(2)\"):\n",
    "        artists.append(i.get_text().strip())\n",
    "        artists = [x for x in artists if x != 'NEW' and x != 'RE-\\nENTRY']\n",
    "    \n",
    "    \n",
    "    scraped_hot100 = pd.DataFrame({\n",
    "                        \"title\":titles,\n",
    "                        \"artist\":artists\n",
    "                      })\n",
    "    scraped_hot100.to_csv(\"hot100.csv\", index=False)\n",
    "    return scraped_hot100"
   ]
  },
  {
   "cell_type": "markdown",
   "metadata": {},
   "source": [
    "### Hot songs"
   ]
  },
  {
   "cell_type": "code",
   "execution_count": null,
   "metadata": {},
   "outputs": [],
   "source": [
    "scrape_hot100(\"https://www.billboard.com/charts/hot-100/\")"
   ]
  },
  {
   "cell_type": "markdown",
   "metadata": {},
   "source": [
    "### Not hot songs\n",
    "I am going to create a new dataframe out of a dataset of more than 1M Spotify songs that I've found here: https://www.kaggle.com/datasets/rodolfofigueroa/spotify-12m-songs\n",
    "\n",
    "As you will see I am going to delete all the unnecessary cols."
   ]
  },
  {
   "cell_type": "code",
   "execution_count": 12,
   "metadata": {},
   "outputs": [],
   "source": [
    "not_hot = pd.read_csv('/Users/mariasoriano/Downloads/tracks_features.csv')"
   ]
  },
  {
   "cell_type": "code",
   "execution_count": 13,
   "metadata": {},
   "outputs": [],
   "source": [
    "nothot_df = not_hot.drop(['id', 'album_id', 'artist_ids', 'track_number', 'disc_number',\n",
    "                         'explicit', 'danceability', 'energy', 'key', 'loudness', 'mode',\n",
    "                         'speechiness', 'acousticness', 'instrumentalness', 'liveness',\n",
    "                         'valence', 'tempo', 'duration_ms', 'time_signature', 'release_date'], axis=1)\n",
    "\n",
    "nothot_df['artists'] = nothot_df['artists'].str.strip('[]')\n",
    "nothot_df['artists'] = nothot_df['artists'].str.strip(\"''\")"
   ]
  },
  {
   "cell_type": "code",
   "execution_count": 14,
   "metadata": {},
   "outputs": [
    {
     "data": {
      "text/plain": [
       "(1204025, 4)"
      ]
     },
     "execution_count": 14,
     "metadata": {},
     "output_type": "execute_result"
    }
   ],
   "source": [
    "#This is a huge df of songs so I will take only a portion of it\n",
    "nothot_df.shape"
   ]
  },
  {
   "cell_type": "code",
   "execution_count": 15,
   "metadata": {},
   "outputs": [],
   "source": [
    "nothot_df = nothot_df.sample(frac=0.0017, replace=False, random_state=1)"
   ]
  },
  {
   "cell_type": "code",
   "execution_count": null,
   "metadata": {},
   "outputs": [],
   "source": [
    "#Around 2000 songs will be enough\n",
    "nothot_df"
   ]
  },
  {
   "cell_type": "markdown",
   "metadata": {},
   "source": [
    "**So far we have 2 dfs:** \n",
    "- Top100 Billboard songs\n",
    "- 2K songs (not hot)"
   ]
  },
  {
   "cell_type": "code",
   "execution_count": 16,
   "metadata": {},
   "outputs": [],
   "source": [
    "#define a function to save them\n",
    "def save_csv (data, csv_name):\n",
    "    data.to_csv(csv_name, index=True)"
   ]
  },
  {
   "cell_type": "code",
   "execution_count": 17,
   "metadata": {},
   "outputs": [],
   "source": [
    "#save_csv(nothot_df, \"nothotsongs\")"
   ]
  },
  {
   "cell_type": "code",
   "execution_count": 7,
   "metadata": {},
   "outputs": [],
   "source": [
    "#save_csv(hot100, \"hot100\")"
   ]
  }
 ],
 "metadata": {
  "kernelspec": {
   "display_name": "Python 3",
   "language": "python",
   "name": "python3"
  },
  "language_info": {
   "codemirror_mode": {
    "name": "ipython",
    "version": 3
   },
   "file_extension": ".py",
   "mimetype": "text/x-python",
   "name": "python",
   "nbconvert_exporter": "python",
   "pygments_lexer": "ipython3",
   "version": "3.8.5"
  },
  "varInspector": {
   "cols": {
    "lenName": 16,
    "lenType": 16,
    "lenVar": 40
   },
   "kernels_config": {
    "python": {
     "delete_cmd_postfix": "",
     "delete_cmd_prefix": "del ",
     "library": "var_list.py",
     "varRefreshCmd": "print(var_dic_list())"
    },
    "r": {
     "delete_cmd_postfix": ") ",
     "delete_cmd_prefix": "rm(",
     "library": "var_list.r",
     "varRefreshCmd": "cat(var_dic_list()) "
    }
   },
   "types_to_exclude": [
    "module",
    "function",
    "builtin_function_or_method",
    "instance",
    "_Feature"
   ],
   "window_display": false
  }
 },
 "nbformat": 4,
 "nbformat_minor": 4
}
