{
 "cells": [
  {
   "cell_type": "markdown",
   "metadata": {
    "id": "-M3QFIFrKdPt"
   },
   "source": [
    "# Installing Spotipy"
   ]
  },
  {
   "cell_type": "markdown",
   "metadata": {
    "id": "o2ooSokHKfsd"
   },
   "source": [
    "In order to use the Spotify API (SpotiPy) we will have to create an account in Spotify and follow these steps. Once we have done it we will start initializing the API and look at the search method for which we can introduce a \"query\" q, in this example we will try it with Lady Gaga:"
   ]
  },
  {
   "cell_type": "code",
   "execution_count": 4,
   "metadata": {
    "colab": {
     "base_uri": "https://localhost:8080/"
    },
    "executionInfo": {
     "elapsed": 5292,
     "status": "ok",
     "timestamp": 1647796198442,
     "user": {
      "displayName": "Ignacio Soteras",
      "photoUrl": "https://lh3.googleusercontent.com/a/default-user=s64",
      "userId": "02050793736257155229"
     },
     "user_tz": -60
    },
    "id": "tis_6tTpKY1Z",
    "outputId": "dba169a3-0fe7-4bf5-c923-70e03d9396e5"
   },
   "outputs": [],
   "source": [
    "#!pip install spotipy"
   ]
  },
  {
   "cell_type": "markdown",
   "metadata": {
    "id": "fnhh4ayEOKz4"
   },
   "source": [
    "## Loading credentials from another config file"
   ]
  },
  {
   "cell_type": "code",
   "execution_count": 2,
   "metadata": {
    "executionInfo": {
     "elapsed": 645,
     "status": "ok",
     "timestamp": 1647796228413,
     "user": {
      "displayName": "Ignacio Soteras",
      "photoUrl": "https://lh3.googleusercontent.com/a/default-user=s64",
      "userId": "02050793736257155229"
     },
     "user_tz": -60
    },
    "id": "gjCLGkDJOGmV"
   },
   "outputs": [],
   "source": [
    "import sys\n",
    "sys.path.insert(1, '/Users/mariasoriano/Desktop/Ironhack/lab-web-scraping-single-page/config.py')\n",
    "from config import *"
   ]
  },
  {
   "cell_type": "markdown",
   "metadata": {
    "id": "0fpGWmsCOSx0"
   },
   "source": [
    "## Starting with Spotify API"
   ]
  },
  {
   "cell_type": "code",
   "execution_count": 12,
   "metadata": {
    "colab": {
     "base_uri": "https://localhost:8080/"
    },
    "executionInfo": {
     "elapsed": 840,
     "status": "ok",
     "timestamp": 1647796232334,
     "user": {
      "displayName": "Ignacio Soteras",
      "photoUrl": "https://lh3.googleusercontent.com/a/default-user=s64",
      "userId": "02050793736257155229"
     },
     "user_tz": -60
    },
    "id": "-0qiqFTZqqE2",
    "outputId": "2a403818-5632-4047-ef01-9c60c9504f76"
   },
   "outputs": [
    {
     "data": {
      "text/plain": [
       "{'album': {'album_type': 'album',\n",
       "  'artists': [{'external_urls': {'spotify': 'https://open.spotify.com/artist/00sazWvoTLOqg5MFwC68Um'},\n",
       "    'href': 'https://api.spotify.com/v1/artists/00sazWvoTLOqg5MFwC68Um',\n",
       "    'id': '00sazWvoTLOqg5MFwC68Um',\n",
       "    'name': 'Yann Tiersen',\n",
       "    'type': 'artist',\n",
       "    'uri': 'spotify:artist:00sazWvoTLOqg5MFwC68Um'}],\n",
       "  'available_markets': ['AD',\n",
       "   'AE',\n",
       "   'AG',\n",
       "   'AL',\n",
       "   'AM',\n",
       "   'AO',\n",
       "   'AR',\n",
       "   'AT',\n",
       "   'AU',\n",
       "   'AZ',\n",
       "   'BA',\n",
       "   'BB',\n",
       "   'BD',\n",
       "   'BE',\n",
       "   'BF',\n",
       "   'BG',\n",
       "   'BH',\n",
       "   'BI',\n",
       "   'BJ',\n",
       "   'BN',\n",
       "   'BO',\n",
       "   'BR',\n",
       "   'BS',\n",
       "   'BT',\n",
       "   'BW',\n",
       "   'BY',\n",
       "   'BZ',\n",
       "   'CA',\n",
       "   'CD',\n",
       "   'CG',\n",
       "   'CH',\n",
       "   'CI',\n",
       "   'CL',\n",
       "   'CM',\n",
       "   'CO',\n",
       "   'CR',\n",
       "   'CV',\n",
       "   'CW',\n",
       "   'CY',\n",
       "   'CZ',\n",
       "   'DE',\n",
       "   'DJ',\n",
       "   'DK',\n",
       "   'DM',\n",
       "   'DO',\n",
       "   'DZ',\n",
       "   'EC',\n",
       "   'EE',\n",
       "   'EG',\n",
       "   'ES',\n",
       "   'FI',\n",
       "   'FJ',\n",
       "   'FM',\n",
       "   'FR',\n",
       "   'GA',\n",
       "   'GB',\n",
       "   'GD',\n",
       "   'GE',\n",
       "   'GH',\n",
       "   'GM',\n",
       "   'GN',\n",
       "   'GQ',\n",
       "   'GR',\n",
       "   'GT',\n",
       "   'GW',\n",
       "   'GY',\n",
       "   'HK',\n",
       "   'HN',\n",
       "   'HR',\n",
       "   'HT',\n",
       "   'HU',\n",
       "   'ID',\n",
       "   'IE',\n",
       "   'IL',\n",
       "   'IN',\n",
       "   'IQ',\n",
       "   'IS',\n",
       "   'IT',\n",
       "   'JM',\n",
       "   'JO',\n",
       "   'JP',\n",
       "   'KE',\n",
       "   'KG',\n",
       "   'KH',\n",
       "   'KI',\n",
       "   'KM',\n",
       "   'KN',\n",
       "   'KR',\n",
       "   'KW',\n",
       "   'KZ',\n",
       "   'LA',\n",
       "   'LB',\n",
       "   'LC',\n",
       "   'LI',\n",
       "   'LK',\n",
       "   'LR',\n",
       "   'LS',\n",
       "   'LT',\n",
       "   'LU',\n",
       "   'LV',\n",
       "   'LY',\n",
       "   'MA',\n",
       "   'MC',\n",
       "   'MD',\n",
       "   'ME',\n",
       "   'MG',\n",
       "   'MH',\n",
       "   'MK',\n",
       "   'ML',\n",
       "   'MN',\n",
       "   'MO',\n",
       "   'MR',\n",
       "   'MT',\n",
       "   'MU',\n",
       "   'MV',\n",
       "   'MW',\n",
       "   'MX',\n",
       "   'MY',\n",
       "   'MZ',\n",
       "   'NA',\n",
       "   'NE',\n",
       "   'NG',\n",
       "   'NI',\n",
       "   'NL',\n",
       "   'NO',\n",
       "   'NP',\n",
       "   'NR',\n",
       "   'NZ',\n",
       "   'OM',\n",
       "   'PA',\n",
       "   'PE',\n",
       "   'PG',\n",
       "   'PH',\n",
       "   'PK',\n",
       "   'PL',\n",
       "   'PS',\n",
       "   'PT',\n",
       "   'PW',\n",
       "   'PY',\n",
       "   'QA',\n",
       "   'RO',\n",
       "   'RS',\n",
       "   'RU',\n",
       "   'RW',\n",
       "   'SA',\n",
       "   'SB',\n",
       "   'SC',\n",
       "   'SE',\n",
       "   'SG',\n",
       "   'SI',\n",
       "   'SK',\n",
       "   'SL',\n",
       "   'SM',\n",
       "   'SN',\n",
       "   'SR',\n",
       "   'ST',\n",
       "   'SV',\n",
       "   'SZ',\n",
       "   'TD',\n",
       "   'TG',\n",
       "   'TH',\n",
       "   'TJ',\n",
       "   'TL',\n",
       "   'TN',\n",
       "   'TO',\n",
       "   'TR',\n",
       "   'TT',\n",
       "   'TV',\n",
       "   'TW',\n",
       "   'TZ',\n",
       "   'UA',\n",
       "   'UG',\n",
       "   'US',\n",
       "   'UY',\n",
       "   'UZ',\n",
       "   'VC',\n",
       "   'VE',\n",
       "   'VN',\n",
       "   'VU',\n",
       "   'WS',\n",
       "   'XK',\n",
       "   'ZA',\n",
       "   'ZM',\n",
       "   'ZW'],\n",
       "  'external_urls': {'spotify': 'https://open.spotify.com/album/6PRPYATK5VvjZ2p911y6U0'},\n",
       "  'href': 'https://api.spotify.com/v1/albums/6PRPYATK5VvjZ2p911y6U0',\n",
       "  'id': '6PRPYATK5VvjZ2p911y6U0',\n",
       "  'images': [{'height': 640,\n",
       "    'url': 'https://i.scdn.co/image/ab67616d0000b2731b7844a8c73c4d48f0bca1de',\n",
       "    'width': 640},\n",
       "   {'height': 300,\n",
       "    'url': 'https://i.scdn.co/image/ab67616d00001e021b7844a8c73c4d48f0bca1de',\n",
       "    'width': 300},\n",
       "   {'height': 64,\n",
       "    'url': 'https://i.scdn.co/image/ab67616d000048511b7844a8c73c4d48f0bca1de',\n",
       "    'width': 64}],\n",
       "  'name': \"Le Fabuleux destin d'Amélie Poulain (Bande originale du film)\",\n",
       "  'release_date': '2001-04-23',\n",
       "  'release_date_precision': 'day',\n",
       "  'total_tracks': 15,\n",
       "  'type': 'album',\n",
       "  'uri': 'spotify:album:6PRPYATK5VvjZ2p911y6U0'},\n",
       " 'artists': [{'external_urls': {'spotify': 'https://open.spotify.com/artist/00sazWvoTLOqg5MFwC68Um'},\n",
       "   'href': 'https://api.spotify.com/v1/artists/00sazWvoTLOqg5MFwC68Um',\n",
       "   'id': '00sazWvoTLOqg5MFwC68Um',\n",
       "   'name': 'Yann Tiersen',\n",
       "   'type': 'artist',\n",
       "   'uri': 'spotify:artist:00sazWvoTLOqg5MFwC68Um'}],\n",
       " 'available_markets': ['AD',\n",
       "  'AE',\n",
       "  'AG',\n",
       "  'AL',\n",
       "  'AM',\n",
       "  'AO',\n",
       "  'AR',\n",
       "  'AT',\n",
       "  'AU',\n",
       "  'AZ',\n",
       "  'BA',\n",
       "  'BB',\n",
       "  'BD',\n",
       "  'BE',\n",
       "  'BF',\n",
       "  'BG',\n",
       "  'BH',\n",
       "  'BI',\n",
       "  'BJ',\n",
       "  'BN',\n",
       "  'BO',\n",
       "  'BR',\n",
       "  'BS',\n",
       "  'BT',\n",
       "  'BW',\n",
       "  'BY',\n",
       "  'BZ',\n",
       "  'CA',\n",
       "  'CD',\n",
       "  'CG',\n",
       "  'CH',\n",
       "  'CI',\n",
       "  'CL',\n",
       "  'CM',\n",
       "  'CO',\n",
       "  'CR',\n",
       "  'CV',\n",
       "  'CW',\n",
       "  'CY',\n",
       "  'CZ',\n",
       "  'DE',\n",
       "  'DJ',\n",
       "  'DK',\n",
       "  'DM',\n",
       "  'DO',\n",
       "  'DZ',\n",
       "  'EC',\n",
       "  'EE',\n",
       "  'EG',\n",
       "  'ES',\n",
       "  'FI',\n",
       "  'FJ',\n",
       "  'FM',\n",
       "  'FR',\n",
       "  'GA',\n",
       "  'GB',\n",
       "  'GD',\n",
       "  'GE',\n",
       "  'GH',\n",
       "  'GM',\n",
       "  'GN',\n",
       "  'GQ',\n",
       "  'GR',\n",
       "  'GT',\n",
       "  'GW',\n",
       "  'GY',\n",
       "  'HK',\n",
       "  'HN',\n",
       "  'HR',\n",
       "  'HT',\n",
       "  'HU',\n",
       "  'ID',\n",
       "  'IE',\n",
       "  'IL',\n",
       "  'IN',\n",
       "  'IQ',\n",
       "  'IS',\n",
       "  'IT',\n",
       "  'JM',\n",
       "  'JO',\n",
       "  'JP',\n",
       "  'KE',\n",
       "  'KG',\n",
       "  'KH',\n",
       "  'KI',\n",
       "  'KM',\n",
       "  'KN',\n",
       "  'KR',\n",
       "  'KW',\n",
       "  'KZ',\n",
       "  'LA',\n",
       "  'LB',\n",
       "  'LC',\n",
       "  'LI',\n",
       "  'LK',\n",
       "  'LR',\n",
       "  'LS',\n",
       "  'LT',\n",
       "  'LU',\n",
       "  'LV',\n",
       "  'LY',\n",
       "  'MA',\n",
       "  'MC',\n",
       "  'MD',\n",
       "  'ME',\n",
       "  'MG',\n",
       "  'MH',\n",
       "  'MK',\n",
       "  'ML',\n",
       "  'MN',\n",
       "  'MO',\n",
       "  'MR',\n",
       "  'MT',\n",
       "  'MU',\n",
       "  'MV',\n",
       "  'MW',\n",
       "  'MX',\n",
       "  'MY',\n",
       "  'MZ',\n",
       "  'NA',\n",
       "  'NE',\n",
       "  'NG',\n",
       "  'NI',\n",
       "  'NL',\n",
       "  'NO',\n",
       "  'NP',\n",
       "  'NR',\n",
       "  'NZ',\n",
       "  'OM',\n",
       "  'PA',\n",
       "  'PE',\n",
       "  'PG',\n",
       "  'PH',\n",
       "  'PK',\n",
       "  'PL',\n",
       "  'PS',\n",
       "  'PT',\n",
       "  'PW',\n",
       "  'PY',\n",
       "  'QA',\n",
       "  'RO',\n",
       "  'RS',\n",
       "  'RU',\n",
       "  'RW',\n",
       "  'SA',\n",
       "  'SB',\n",
       "  'SC',\n",
       "  'SE',\n",
       "  'SG',\n",
       "  'SI',\n",
       "  'SK',\n",
       "  'SL',\n",
       "  'SM',\n",
       "  'SN',\n",
       "  'SR',\n",
       "  'ST',\n",
       "  'SV',\n",
       "  'SZ',\n",
       "  'TD',\n",
       "  'TG',\n",
       "  'TH',\n",
       "  'TJ',\n",
       "  'TL',\n",
       "  'TN',\n",
       "  'TO',\n",
       "  'TR',\n",
       "  'TT',\n",
       "  'TV',\n",
       "  'TW',\n",
       "  'TZ',\n",
       "  'UA',\n",
       "  'UG',\n",
       "  'US',\n",
       "  'UY',\n",
       "  'UZ',\n",
       "  'VC',\n",
       "  'VE',\n",
       "  'VN',\n",
       "  'VU',\n",
       "  'WS',\n",
       "  'XK',\n",
       "  'ZA',\n",
       "  'ZM',\n",
       "  'ZW'],\n",
       " 'disc_number': 1,\n",
       " 'duration_ms': 140733,\n",
       " 'explicit': False,\n",
       " 'external_ids': {'isrc': 'FR91U0100002'},\n",
       " 'external_urls': {'spotify': 'https://open.spotify.com/track/14rZjW3RioG7WesZhYESso'},\n",
       " 'href': 'https://api.spotify.com/v1/tracks/14rZjW3RioG7WesZhYESso',\n",
       " 'id': '14rZjW3RioG7WesZhYESso',\n",
       " 'is_local': False,\n",
       " 'name': \"Comptine d'un autre été, l'après-midi\",\n",
       " 'popularity': 77,\n",
       " 'preview_url': 'https://p.scdn.co/mp3-preview/4c625cf20bfe3d217e1a743a72f334eb129d06c9?cid=eaac318a0ebf423083db92bbf0d99010',\n",
       " 'track_number': 3,\n",
       " 'type': 'track',\n",
       " 'uri': 'spotify:track:14rZjW3RioG7WesZhYESso'}"
      ]
     },
     "execution_count": 12,
     "metadata": {},
     "output_type": "execute_result"
    }
   ],
   "source": [
    "import spotipy\n",
    "import json\n",
    "from spotipy.oauth2 import SpotifyClientCredentials\n",
    "\n",
    "\n",
    "#Initialize SpotiPy with user credentias\n",
    "sp = spotipy.Spotify(auth_manager=SpotifyClientCredentials(client_id= client_id,\n",
    "                                                           client_secret= client_secret_id))\n",
    "\n",
    "# The \"sp\" variable has two useful funtions:\n",
    "# The first usefull function is:\n",
    "# .search(q='',limit=n)\n",
    "# .search(q=\"track:\"+song_name+\" artist:\"+artist_name,limit=5) to restrict to a song name and artist.\n",
    "# Where the \"q\" keyword is the query you want to perform on spotify: song_name, artist,...\n",
    "# while The \"limit\" keyword will limit the number of returned results.\n",
    "#\n",
    "# The second usefull function is:\n",
    "# .audio_features([URL|URI|ID])\n",
    "# which returns some 'features of the song', that after cleanup, we can use in order to characterize a song.\n",
    "\n",
    "results = sp.search(q='Yann Tiersen', limit=5)\n",
    "results['tracks']['items'] #check lvl by lvl\n",
    "len(results['tracks']['items']) # check len in this 5 = file because of the limit\n",
    "results['tracks']['items'][0] # first elem of a list\n",
    "\n",
    "#json_results = json.dumps(results, ensure_ascii=True)\n",
    "#json_results\n",
    "#results['tracks']['items'][0]['album']"
   ]
  },
  {
   "cell_type": "markdown",
   "metadata": {
    "id": "DLMGLXLm2e-1"
   },
   "source": [
    "{'spotify': 'https://open.spotify.com/track/4O2N861eOnF9q8EtpH8IJu'}"
   ]
  },
  {
   "cell_type": "code",
   "execution_count": null,
   "metadata": {
    "colab": {
     "base_uri": "https://localhost:8080/"
    },
    "executionInfo": {
     "elapsed": 242,
     "status": "ok",
     "timestamp": 1647796236216,
     "user": {
      "displayName": "Ignacio Soteras",
      "photoUrl": "https://lh3.googleusercontent.com/a/default-user=s64",
      "userId": "02050793736257155229"
     },
     "user_tz": -60
    },
    "id": "5Igl2UskaI0q",
    "outputId": "5409e9ff-026c-4c91-c8d6-ad26fcef401d"
   },
   "outputs": [],
   "source": [
    "type(results)"
   ]
  },
  {
   "cell_type": "code",
   "execution_count": null,
   "metadata": {
    "colab": {
     "base_uri": "https://localhost:8080/"
    },
    "executionInfo": {
     "elapsed": 269,
     "status": "ok",
     "timestamp": 1647796239743,
     "user": {
      "displayName": "Ignacio Soteras",
      "photoUrl": "https://lh3.googleusercontent.com/a/default-user=s64",
      "userId": "02050793736257155229"
     },
     "user_tz": -60
    },
    "id": "MGMBXO7RX4zX",
    "outputId": "437bc64c-5745-4a43-da81-c932380bf809"
   },
   "outputs": [],
   "source": [
    "results.keys()"
   ]
  },
  {
   "cell_type": "code",
   "execution_count": null,
   "metadata": {
    "colab": {
     "base_uri": "https://localhost:8080/"
    },
    "executionInfo": {
     "elapsed": 258,
     "status": "ok",
     "timestamp": 1647796241284,
     "user": {
      "displayName": "Ignacio Soteras",
      "photoUrl": "https://lh3.googleusercontent.com/a/default-user=s64",
      "userId": "02050793736257155229"
     },
     "user_tz": -60
    },
    "id": "WcH0WXJ3X97h",
    "outputId": "b636aaac-0ec3-476d-ff8c-696a45633f7c"
   },
   "outputs": [],
   "source": [
    "results['tracks'].keys()"
   ]
  },
  {
   "cell_type": "code",
   "execution_count": null,
   "metadata": {
    "colab": {
     "base_uri": "https://localhost:8080/"
    },
    "executionInfo": {
     "elapsed": 423,
     "status": "ok",
     "timestamp": 1647796244802,
     "user": {
      "displayName": "Ignacio Soteras",
      "photoUrl": "https://lh3.googleusercontent.com/a/default-user=s64",
      "userId": "02050793736257155229"
     },
     "user_tz": -60
    },
    "id": "7zpZOuf74E3B",
    "outputId": "29c00b30-47df-464b-c957-135688099457"
   },
   "outputs": [],
   "source": [
    "import pprint\n",
    "\n",
    "pprint.pprint(results)"
   ]
  },
  {
   "cell_type": "code",
   "execution_count": null,
   "metadata": {
    "colab": {
     "base_uri": "https://localhost:8080/"
    },
    "executionInfo": {
     "elapsed": 267,
     "status": "ok",
     "timestamp": 1647796247937,
     "user": {
      "displayName": "Ignacio Soteras",
      "photoUrl": "https://lh3.googleusercontent.com/a/default-user=s64",
      "userId": "02050793736257155229"
     },
     "user_tz": -60
    },
    "id": "K975xBBkrehs",
    "outputId": "1da8d121-b2ee-46d2-d61a-0ca26cc84011"
   },
   "outputs": [],
   "source": [
    "results['tracks']['items']"
   ]
  },
  {
   "cell_type": "code",
   "execution_count": null,
   "metadata": {
    "colab": {
     "base_uri": "https://localhost:8080/"
    },
    "executionInfo": {
     "elapsed": 331,
     "status": "ok",
     "timestamp": 1647796251880,
     "user": {
      "displayName": "Ignacio Soteras",
      "photoUrl": "https://lh3.googleusercontent.com/a/default-user=s64",
      "userId": "02050793736257155229"
     },
     "user_tz": -60
    },
    "id": "PdDNGKc8YOkk",
    "outputId": "364b663b-78c6-4fb0-ff66-00dfba3f414a"
   },
   "outputs": [],
   "source": [
    "len(results['tracks']['items'])"
   ]
  },
  {
   "cell_type": "code",
   "execution_count": null,
   "metadata": {
    "colab": {
     "base_uri": "https://localhost:8080/"
    },
    "executionInfo": {
     "elapsed": 282,
     "status": "ok",
     "timestamp": 1647796253798,
     "user": {
      "displayName": "Ignacio Soteras",
      "photoUrl": "https://lh3.googleusercontent.com/a/default-user=s64",
      "userId": "02050793736257155229"
     },
     "user_tz": -60
    },
    "id": "x1Ds47VVYYLQ",
    "outputId": "e2638c20-0a07-4686-f237-75a89675fcde"
   },
   "outputs": [],
   "source": [
    "results['tracks']['items'][0]"
   ]
  },
  {
   "cell_type": "code",
   "execution_count": null,
   "metadata": {
    "colab": {
     "base_uri": "https://localhost:8080/"
    },
    "executionInfo": {
     "elapsed": 310,
     "status": "ok",
     "timestamp": 1647796370920,
     "user": {
      "displayName": "Ignacio Soteras",
      "photoUrl": "https://lh3.googleusercontent.com/a/default-user=s64",
      "userId": "02050793736257155229"
     },
     "user_tz": -60
    },
    "id": "1WsGXXCvYgo9",
    "outputId": "2830d305-45de-4942-d9a1-cf327a875a5f"
   },
   "outputs": [],
   "source": [
    "results['tracks']['items'][0].keys()"
   ]
  },
  {
   "cell_type": "code",
   "execution_count": null,
   "metadata": {
    "colab": {
     "base_uri": "https://localhost:8080/",
     "height": 35
    },
    "executionInfo": {
     "elapsed": 248,
     "status": "ok",
     "timestamp": 1647796383649,
     "user": {
      "displayName": "Ignacio Soteras",
      "photoUrl": "https://lh3.googleusercontent.com/a/default-user=s64",
      "userId": "02050793736257155229"
     },
     "user_tz": -60
    },
    "id": "-s66JnDcYrQ4",
    "outputId": "72ce4cd6-a9ac-49f4-c816-c097eca0e237"
   },
   "outputs": [],
   "source": [
    "results['tracks']['items'][0]['id']"
   ]
  },
  {
   "cell_type": "code",
   "execution_count": null,
   "metadata": {
    "colab": {
     "base_uri": "https://localhost:8080/"
    },
    "executionInfo": {
     "elapsed": 258,
     "status": "ok",
     "timestamp": 1647796388722,
     "user": {
      "displayName": "Ignacio Soteras",
      "photoUrl": "https://lh3.googleusercontent.com/a/default-user=s64",
      "userId": "02050793736257155229"
     },
     "user_tz": -60
    },
    "id": "Pe8hlEUPYu3a",
    "outputId": "157929d6-649b-41b7-cced-424054447c98"
   },
   "outputs": [],
   "source": [
    "for item in results['tracks']['items']:\n",
    "    print(\"The name of song is: '{}' and the id is: {}\".format(item['name'],item['external_urls']['spotify']))"
   ]
  },
  {
   "cell_type": "code",
   "execution_count": null,
   "metadata": {
    "colab": {
     "base_uri": "https://localhost:8080/",
     "height": 35
    },
    "executionInfo": {
     "elapsed": 284,
     "status": "ok",
     "timestamp": 1647796410734,
     "user": {
      "displayName": "Ignacio Soteras",
      "photoUrl": "https://lh3.googleusercontent.com/a/default-user=s64",
      "userId": "02050793736257155229"
     },
     "user_tz": -60
    },
    "id": "2c3RLq1NcG3s",
    "outputId": "74738cf2-3b45-46ad-85d8-4176b8b98b5e"
   },
   "outputs": [],
   "source": [
    "results[\"tracks\"][\"items\"][0]['name']"
   ]
  },
  {
   "cell_type": "code",
   "execution_count": 26,
   "metadata": {
    "colab": {
     "base_uri": "https://localhost:8080/",
     "height": 197
    },
    "executionInfo": {
     "elapsed": 985,
     "status": "ok",
     "timestamp": 1647796415715,
     "user": {
      "displayName": "Ignacio Soteras",
      "photoUrl": "https://lh3.googleusercontent.com/a/default-user=s64",
      "userId": "02050793736257155229"
     },
     "user_tz": -60
    },
    "id": "ae3ey51ldj22",
    "outputId": "8172149f-862a-4c54-d198-a3ae76c9c451"
   },
   "outputs": [
    {
     "data": {
      "text/plain": [
       "{'tracks': {'href': 'https://api.spotify.com/v1/search?query=comptine+d%27un+autre+%C3%A9t%C3%A9&type=track&offset=0&limit=1',\n",
       "  'items': [{'album': {'album_type': 'album',\n",
       "     'artists': [{'external_urls': {'spotify': 'https://open.spotify.com/artist/00sazWvoTLOqg5MFwC68Um'},\n",
       "       'href': 'https://api.spotify.com/v1/artists/00sazWvoTLOqg5MFwC68Um',\n",
       "       'id': '00sazWvoTLOqg5MFwC68Um',\n",
       "       'name': 'Yann Tiersen',\n",
       "       'type': 'artist',\n",
       "       'uri': 'spotify:artist:00sazWvoTLOqg5MFwC68Um'}],\n",
       "     'available_markets': ['AD',\n",
       "      'AE',\n",
       "      'AG',\n",
       "      'AL',\n",
       "      'AM',\n",
       "      'AO',\n",
       "      'AR',\n",
       "      'AT',\n",
       "      'AU',\n",
       "      'AZ',\n",
       "      'BA',\n",
       "      'BB',\n",
       "      'BD',\n",
       "      'BE',\n",
       "      'BF',\n",
       "      'BG',\n",
       "      'BH',\n",
       "      'BI',\n",
       "      'BJ',\n",
       "      'BN',\n",
       "      'BO',\n",
       "      'BR',\n",
       "      'BS',\n",
       "      'BT',\n",
       "      'BW',\n",
       "      'BY',\n",
       "      'BZ',\n",
       "      'CA',\n",
       "      'CD',\n",
       "      'CG',\n",
       "      'CH',\n",
       "      'CI',\n",
       "      'CL',\n",
       "      'CM',\n",
       "      'CO',\n",
       "      'CR',\n",
       "      'CV',\n",
       "      'CW',\n",
       "      'CY',\n",
       "      'CZ',\n",
       "      'DE',\n",
       "      'DJ',\n",
       "      'DK',\n",
       "      'DM',\n",
       "      'DO',\n",
       "      'DZ',\n",
       "      'EC',\n",
       "      'EE',\n",
       "      'EG',\n",
       "      'ES',\n",
       "      'FI',\n",
       "      'FJ',\n",
       "      'FM',\n",
       "      'FR',\n",
       "      'GA',\n",
       "      'GB',\n",
       "      'GD',\n",
       "      'GE',\n",
       "      'GH',\n",
       "      'GM',\n",
       "      'GN',\n",
       "      'GQ',\n",
       "      'GR',\n",
       "      'GT',\n",
       "      'GW',\n",
       "      'GY',\n",
       "      'HK',\n",
       "      'HN',\n",
       "      'HR',\n",
       "      'HT',\n",
       "      'HU',\n",
       "      'ID',\n",
       "      'IE',\n",
       "      'IL',\n",
       "      'IN',\n",
       "      'IQ',\n",
       "      'IS',\n",
       "      'IT',\n",
       "      'JM',\n",
       "      'JO',\n",
       "      'JP',\n",
       "      'KE',\n",
       "      'KG',\n",
       "      'KH',\n",
       "      'KI',\n",
       "      'KM',\n",
       "      'KN',\n",
       "      'KR',\n",
       "      'KW',\n",
       "      'KZ',\n",
       "      'LA',\n",
       "      'LB',\n",
       "      'LC',\n",
       "      'LI',\n",
       "      'LK',\n",
       "      'LR',\n",
       "      'LS',\n",
       "      'LT',\n",
       "      'LU',\n",
       "      'LV',\n",
       "      'LY',\n",
       "      'MA',\n",
       "      'MC',\n",
       "      'MD',\n",
       "      'ME',\n",
       "      'MG',\n",
       "      'MH',\n",
       "      'MK',\n",
       "      'ML',\n",
       "      'MN',\n",
       "      'MO',\n",
       "      'MR',\n",
       "      'MT',\n",
       "      'MU',\n",
       "      'MV',\n",
       "      'MW',\n",
       "      'MX',\n",
       "      'MY',\n",
       "      'MZ',\n",
       "      'NA',\n",
       "      'NE',\n",
       "      'NG',\n",
       "      'NI',\n",
       "      'NL',\n",
       "      'NO',\n",
       "      'NP',\n",
       "      'NR',\n",
       "      'NZ',\n",
       "      'OM',\n",
       "      'PA',\n",
       "      'PE',\n",
       "      'PG',\n",
       "      'PH',\n",
       "      'PK',\n",
       "      'PL',\n",
       "      'PS',\n",
       "      'PT',\n",
       "      'PW',\n",
       "      'PY',\n",
       "      'QA',\n",
       "      'RO',\n",
       "      'RS',\n",
       "      'RU',\n",
       "      'RW',\n",
       "      'SA',\n",
       "      'SB',\n",
       "      'SC',\n",
       "      'SE',\n",
       "      'SG',\n",
       "      'SI',\n",
       "      'SK',\n",
       "      'SL',\n",
       "      'SM',\n",
       "      'SN',\n",
       "      'SR',\n",
       "      'ST',\n",
       "      'SV',\n",
       "      'SZ',\n",
       "      'TD',\n",
       "      'TG',\n",
       "      'TH',\n",
       "      'TJ',\n",
       "      'TL',\n",
       "      'TN',\n",
       "      'TO',\n",
       "      'TR',\n",
       "      'TT',\n",
       "      'TV',\n",
       "      'TW',\n",
       "      'TZ',\n",
       "      'UA',\n",
       "      'UG',\n",
       "      'US',\n",
       "      'UY',\n",
       "      'UZ',\n",
       "      'VC',\n",
       "      'VE',\n",
       "      'VN',\n",
       "      'VU',\n",
       "      'WS',\n",
       "      'XK',\n",
       "      'ZA',\n",
       "      'ZM',\n",
       "      'ZW'],\n",
       "     'external_urls': {'spotify': 'https://open.spotify.com/album/6PRPYATK5VvjZ2p911y6U0'},\n",
       "     'href': 'https://api.spotify.com/v1/albums/6PRPYATK5VvjZ2p911y6U0',\n",
       "     'id': '6PRPYATK5VvjZ2p911y6U0',\n",
       "     'images': [{'height': 640,\n",
       "       'url': 'https://i.scdn.co/image/ab67616d0000b2731b7844a8c73c4d48f0bca1de',\n",
       "       'width': 640},\n",
       "      {'height': 300,\n",
       "       'url': 'https://i.scdn.co/image/ab67616d00001e021b7844a8c73c4d48f0bca1de',\n",
       "       'width': 300},\n",
       "      {'height': 64,\n",
       "       'url': 'https://i.scdn.co/image/ab67616d000048511b7844a8c73c4d48f0bca1de',\n",
       "       'width': 64}],\n",
       "     'name': \"Le Fabuleux destin d'Amélie Poulain (Bande originale du film)\",\n",
       "     'release_date': '2001-04-23',\n",
       "     'release_date_precision': 'day',\n",
       "     'total_tracks': 15,\n",
       "     'type': 'album',\n",
       "     'uri': 'spotify:album:6PRPYATK5VvjZ2p911y6U0'},\n",
       "    'artists': [{'external_urls': {'spotify': 'https://open.spotify.com/artist/00sazWvoTLOqg5MFwC68Um'},\n",
       "      'href': 'https://api.spotify.com/v1/artists/00sazWvoTLOqg5MFwC68Um',\n",
       "      'id': '00sazWvoTLOqg5MFwC68Um',\n",
       "      'name': 'Yann Tiersen',\n",
       "      'type': 'artist',\n",
       "      'uri': 'spotify:artist:00sazWvoTLOqg5MFwC68Um'}],\n",
       "    'available_markets': ['AD',\n",
       "     'AE',\n",
       "     'AG',\n",
       "     'AL',\n",
       "     'AM',\n",
       "     'AO',\n",
       "     'AR',\n",
       "     'AT',\n",
       "     'AU',\n",
       "     'AZ',\n",
       "     'BA',\n",
       "     'BB',\n",
       "     'BD',\n",
       "     'BE',\n",
       "     'BF',\n",
       "     'BG',\n",
       "     'BH',\n",
       "     'BI',\n",
       "     'BJ',\n",
       "     'BN',\n",
       "     'BO',\n",
       "     'BR',\n",
       "     'BS',\n",
       "     'BT',\n",
       "     'BW',\n",
       "     'BY',\n",
       "     'BZ',\n",
       "     'CA',\n",
       "     'CD',\n",
       "     'CG',\n",
       "     'CH',\n",
       "     'CI',\n",
       "     'CL',\n",
       "     'CM',\n",
       "     'CO',\n",
       "     'CR',\n",
       "     'CV',\n",
       "     'CW',\n",
       "     'CY',\n",
       "     'CZ',\n",
       "     'DE',\n",
       "     'DJ',\n",
       "     'DK',\n",
       "     'DM',\n",
       "     'DO',\n",
       "     'DZ',\n",
       "     'EC',\n",
       "     'EE',\n",
       "     'EG',\n",
       "     'ES',\n",
       "     'FI',\n",
       "     'FJ',\n",
       "     'FM',\n",
       "     'FR',\n",
       "     'GA',\n",
       "     'GB',\n",
       "     'GD',\n",
       "     'GE',\n",
       "     'GH',\n",
       "     'GM',\n",
       "     'GN',\n",
       "     'GQ',\n",
       "     'GR',\n",
       "     'GT',\n",
       "     'GW',\n",
       "     'GY',\n",
       "     'HK',\n",
       "     'HN',\n",
       "     'HR',\n",
       "     'HT',\n",
       "     'HU',\n",
       "     'ID',\n",
       "     'IE',\n",
       "     'IL',\n",
       "     'IN',\n",
       "     'IQ',\n",
       "     'IS',\n",
       "     'IT',\n",
       "     'JM',\n",
       "     'JO',\n",
       "     'JP',\n",
       "     'KE',\n",
       "     'KG',\n",
       "     'KH',\n",
       "     'KI',\n",
       "     'KM',\n",
       "     'KN',\n",
       "     'KR',\n",
       "     'KW',\n",
       "     'KZ',\n",
       "     'LA',\n",
       "     'LB',\n",
       "     'LC',\n",
       "     'LI',\n",
       "     'LK',\n",
       "     'LR',\n",
       "     'LS',\n",
       "     'LT',\n",
       "     'LU',\n",
       "     'LV',\n",
       "     'LY',\n",
       "     'MA',\n",
       "     'MC',\n",
       "     'MD',\n",
       "     'ME',\n",
       "     'MG',\n",
       "     'MH',\n",
       "     'MK',\n",
       "     'ML',\n",
       "     'MN',\n",
       "     'MO',\n",
       "     'MR',\n",
       "     'MT',\n",
       "     'MU',\n",
       "     'MV',\n",
       "     'MW',\n",
       "     'MX',\n",
       "     'MY',\n",
       "     'MZ',\n",
       "     'NA',\n",
       "     'NE',\n",
       "     'NG',\n",
       "     'NI',\n",
       "     'NL',\n",
       "     'NO',\n",
       "     'NP',\n",
       "     'NR',\n",
       "     'NZ',\n",
       "     'OM',\n",
       "     'PA',\n",
       "     'PE',\n",
       "     'PG',\n",
       "     'PH',\n",
       "     'PK',\n",
       "     'PL',\n",
       "     'PS',\n",
       "     'PT',\n",
       "     'PW',\n",
       "     'PY',\n",
       "     'QA',\n",
       "     'RO',\n",
       "     'RS',\n",
       "     'RU',\n",
       "     'RW',\n",
       "     'SA',\n",
       "     'SB',\n",
       "     'SC',\n",
       "     'SE',\n",
       "     'SG',\n",
       "     'SI',\n",
       "     'SK',\n",
       "     'SL',\n",
       "     'SM',\n",
       "     'SN',\n",
       "     'SR',\n",
       "     'ST',\n",
       "     'SV',\n",
       "     'SZ',\n",
       "     'TD',\n",
       "     'TG',\n",
       "     'TH',\n",
       "     'TJ',\n",
       "     'TL',\n",
       "     'TN',\n",
       "     'TO',\n",
       "     'TR',\n",
       "     'TT',\n",
       "     'TV',\n",
       "     'TW',\n",
       "     'TZ',\n",
       "     'UA',\n",
       "     'UG',\n",
       "     'US',\n",
       "     'UY',\n",
       "     'UZ',\n",
       "     'VC',\n",
       "     'VE',\n",
       "     'VN',\n",
       "     'VU',\n",
       "     'WS',\n",
       "     'XK',\n",
       "     'ZA',\n",
       "     'ZM',\n",
       "     'ZW'],\n",
       "    'disc_number': 1,\n",
       "    'duration_ms': 140733,\n",
       "    'explicit': False,\n",
       "    'external_ids': {'isrc': 'FR91U0100002'},\n",
       "    'external_urls': {'spotify': 'https://open.spotify.com/track/14rZjW3RioG7WesZhYESso'},\n",
       "    'href': 'https://api.spotify.com/v1/tracks/14rZjW3RioG7WesZhYESso',\n",
       "    'id': '14rZjW3RioG7WesZhYESso',\n",
       "    'is_local': False,\n",
       "    'name': \"Comptine d'un autre été, l'après-midi\",\n",
       "    'popularity': 77,\n",
       "    'preview_url': 'https://p.scdn.co/mp3-preview/4c625cf20bfe3d217e1a743a72f334eb129d06c9?cid=eaac318a0ebf423083db92bbf0d99010',\n",
       "    'track_number': 3,\n",
       "    'type': 'track',\n",
       "    'uri': 'spotify:track:14rZjW3RioG7WesZhYESso'}],\n",
       "  'limit': 1,\n",
       "  'next': 'https://api.spotify.com/v1/search?query=comptine+d%27un+autre+%C3%A9t%C3%A9&type=track&offset=1&limit=1',\n",
       "  'offset': 0,\n",
       "  'previous': None,\n",
       "  'total': 3513}}"
      ]
     },
     "execution_count": 26,
     "metadata": {},
     "output_type": "execute_result"
    }
   ],
   "source": [
    "import pandas as pd\n",
    "\n",
    "song = sp.search(q=\"comptine d'un autre été\", limit=1) \n",
    "#pprint.pprint(song['tracks']['items'][0]['uri'])\n",
    "song#[\"tracks\"][\"items\"][0][\"uri\"]\n",
    "#song[\"artists\"][\"external_urls\"][0][\"spotify\"]\n",
    "#sp.audio_features(song[\"tracks\"][\"items\"][0][\"uri\"])[0]\n",
    "#my_dict = sp.audio_features(song[\"tracks\"][\"items\"][0][\"uri\"])[0] # you can provide a list of uri's\n",
    "\n",
    "#print(my_dict)\n",
    "#my_dict_new = { key: [my_dict[key]] for key in list(my_dict.keys()) }\n",
    "#my_dict_new['name'] = [song[\"tracks\"][\"items\"][0]['name']]\n",
    "#print(my_dict_new)\n",
    "\n",
    "#pd.DataFrame(my_dict_new)"
   ]
  },
  {
   "cell_type": "markdown",
   "metadata": {
    "id": "cnEilSbsUzOf"
   },
   "source": [
    "The meaning of Spotify audio features can be found [here](https://developer.spotify.com/discover/) and [here](https://www.therecordindustry.io/spotify-audio-features/)"
   ]
  },
  {
   "cell_type": "markdown",
   "metadata": {
    "id": "vsDb4g8vgo3b"
   },
   "source": [
    "Let's search for songs of several artists"
   ]
  },
  {
   "cell_type": "code",
   "execution_count": null,
   "metadata": {
    "colab": {
     "base_uri": "https://localhost:8080/"
    },
    "executionInfo": {
     "elapsed": 641,
     "status": "ok",
     "timestamp": 1647796590441,
     "user": {
      "displayName": "Ignacio Soteras",
      "photoUrl": "https://lh3.googleusercontent.com/a/default-user=s64",
      "userId": "02050793736257155229"
     },
     "user_tz": -60
    },
    "id": "HyQ4aPoksXK1",
    "outputId": "e984d987-2009-43a9-deda-df6ec6cb1512"
   },
   "outputs": [],
   "source": [
    "my_artists = ['Placebo','Marylin Manson','Janis Joplin']\n",
    "\n",
    "my_dict = {}\n",
    "#for artist in my_artists:\n",
    "#    #result = sp.search(q=artist, limit= 50)\n",
    "#    my_dict[artist] = sp.search(q=artist, limit= 50)\n",
    "\n",
    "my_dict = {artist: sp.search(q=artist, limit= 50) for artist in my_artists}\n",
    "#my_dict\n",
    "my_dict.keys()"
   ]
  },
  {
   "cell_type": "code",
   "execution_count": null,
   "metadata": {
    "colab": {
     "base_uri": "https://localhost:8080/"
    },
    "executionInfo": {
     "elapsed": 321,
     "status": "ok",
     "timestamp": 1647796601696,
     "user": {
      "displayName": "Ignacio Soteras",
      "photoUrl": "https://lh3.googleusercontent.com/a/default-user=s64",
      "userId": "02050793736257155229"
     },
     "user_tz": -60
    },
    "id": "7SNiCcrpdSQV",
    "outputId": "e40db268-b4d8-4829-cf61-7235f0c54fd2"
   },
   "outputs": [],
   "source": [
    "len(my_dict['Janis Joplin']['tracks']['items'])"
   ]
  },
  {
   "cell_type": "code",
   "execution_count": null,
   "metadata": {
    "colab": {
     "base_uri": "https://localhost:8080/"
    },
    "executionInfo": {
     "elapsed": 272,
     "status": "ok",
     "timestamp": 1647796604248,
     "user": {
      "displayName": "Ignacio Soteras",
      "photoUrl": "https://lh3.googleusercontent.com/a/default-user=s64",
      "userId": "02050793736257155229"
     },
     "user_tz": -60
    },
    "id": "sZ5SNYg-d1aj",
    "outputId": "770e1ebc-5ef1-455b-ccdd-62153713b2dc"
   },
   "outputs": [],
   "source": [
    "type(my_dict['Janis Joplin']['tracks']['items'][0])"
   ]
  },
  {
   "cell_type": "code",
   "execution_count": null,
   "metadata": {
    "colab": {
     "base_uri": "https://localhost:8080/"
    },
    "executionInfo": {
     "elapsed": 304,
     "status": "ok",
     "timestamp": 1647796607093,
     "user": {
      "displayName": "Ignacio Soteras",
      "photoUrl": "https://lh3.googleusercontent.com/a/default-user=s64",
      "userId": "02050793736257155229"
     },
     "user_tz": -60
    },
    "id": "ONjAu8FQQkUn",
    "outputId": "5601f306-cbfa-4bb5-f153-a9541c4c62a4"
   },
   "outputs": [],
   "source": [
    "my_dict['Janis Joplin']['tracks']['items'][0].keys()"
   ]
  },
  {
   "cell_type": "markdown",
   "metadata": {
    "id": "wlYAUHZMGEPp"
   },
   "source": [
    "# Understanding the json"
   ]
  },
  {
   "cell_type": "markdown",
   "metadata": {
    "id": "PSk_-FAqDW4q"
   },
   "source": [
    "Understanding the hierachy of a JSON can make you mad. Therefore you may want to consider using some online pages where you can paste your JSON file and see the \"tree\" structure of the file.\n",
    "\n",
    "https://codebeautify.org/jsonviewer\n",
    "\n",
    "So, copy the json output from the previous query and paste it on the website's left panel. On the right panel you will be able to see the hierachy of the json file."
   ]
  },
  {
   "cell_type": "markdown",
   "metadata": {
    "id": "TB8tYM3KEZSx"
   },
   "source": [
    "Let's get used to the json at hand."
   ]
  },
  {
   "cell_type": "code",
   "execution_count": null,
   "metadata": {
    "colab": {
     "base_uri": "https://localhost:8080/"
    },
    "executionInfo": {
     "elapsed": 291,
     "status": "ok",
     "timestamp": 1647796642540,
     "user": {
      "displayName": "Ignacio Soteras",
      "photoUrl": "https://lh3.googleusercontent.com/a/default-user=s64",
      "userId": "02050793736257155229"
     },
     "user_tz": -60
    },
    "id": "gQzoV9fjEbm6",
    "outputId": "fd4d93fc-9353-406c-f50f-bb3209373b2a"
   },
   "outputs": [],
   "source": [
    "print(\"The json file has the following keys: \",list(results.keys())) # We can see that we only have tracks\n",
    "print(\"The 'tracks' key has the following child keys: \",list(results[\"tracks\"].keys())) # Let's check the values\n",
    "print(\"The query we made is: \",results[\"tracks\"][\"href\"]) # Query we have searched \n",
    "print(\"The song's info is contained in: \",results[\"tracks\"][\"items\"]) #items (actual tracks)\n",
    "print(\"The limit of the query we've made is: \",results[\"tracks\"][\"limit\"]) #Limit we have chosen\n",
    "print(\"The next page if any: \",results[\"tracks\"][\"next\"]) #link to the next page (next 50 tracks)\n",
    "print(\"The starting webpage: \",results[\"tracks\"][\"offset\"]) # Actual offset (starting point)\n",
    "print(\"Starting webpage: \",results[\"tracks\"][\"previous\"]) #Previous search\n",
    "print(\"Total number of results: \",results[\"tracks\"][\"total\"]) # Number of matches"
   ]
  },
  {
   "cell_type": "markdown",
   "metadata": {
    "id": "-zgLGJeHGHpj"
   },
   "source": [
    "## Exploring the tracks"
   ]
  },
  {
   "cell_type": "code",
   "execution_count": null,
   "metadata": {
    "colab": {
     "base_uri": "https://localhost:8080/"
    },
    "executionInfo": {
     "elapsed": 281,
     "status": "ok",
     "timestamp": 1647796648042,
     "user": {
      "displayName": "Ignacio Soteras",
      "photoUrl": "https://lh3.googleusercontent.com/a/default-user=s64",
      "userId": "02050793736257155229"
     },
     "user_tz": -60
    },
    "id": "nZ0e5-jQGQ-G",
    "outputId": "4aaa248d-1413-4ff5-ea59-2fc5beb68c5b"
   },
   "outputs": [],
   "source": [
    "print(\"Total number of tracks: \",len(results[\"tracks\"][\"items\"])) # 50 Tracks (as limited, it is the maximum)\n",
    "print(\"Info of the first song: \",results[\"tracks\"][\"items\"][0]) # Explore the first song \n",
    "print(\"The keys of the dictionary are: \",list(results[\"tracks\"][\"items\"][0].keys())) # We will focus on album, artists, id, name, popularity, type and uri"
   ]
  },
  {
   "cell_type": "markdown",
   "metadata": {
    "id": "ztXFl2wtGpBI"
   },
   "source": [
    "## Checking albums"
   ]
  },
  {
   "cell_type": "code",
   "execution_count": null,
   "metadata": {
    "colab": {
     "base_uri": "https://localhost:8080/"
    },
    "executionInfo": {
     "elapsed": 268,
     "status": "ok",
     "timestamp": 1647796651653,
     "user": {
      "displayName": "Ignacio Soteras",
      "photoUrl": "https://lh3.googleusercontent.com/a/default-user=s64",
      "userId": "02050793736257155229"
     },
     "user_tz": -60
    },
    "id": "GHbz4J3JGrph",
    "outputId": "b6aadad9-778d-4638-a48a-5921aa358c56"
   },
   "outputs": [],
   "source": [
    "print(results[\"tracks\"][\"items\"][0][\"album\"]) # we have more info about the album\n",
    "print(list(results[\"tracks\"][\"items\"][0][\"album\"].keys())) # Will check artists, id, name, release date, total tracks \n",
    "print(results[\"tracks\"][\"items\"][0][\"album\"][\"artists\"]) # List with artists and information\n",
    "print(\"The album ID is: \",results[\"tracks\"][\"items\"][0][\"album\"][\"id\"]) # Album ID \n",
    "print(results[\"tracks\"][\"items\"][0][\"album\"][\"name\"]) # Album name (if its a single u'll get the name of the song)\n",
    "print(results[\"tracks\"][\"items\"][0][\"album\"][\"release_date\"]) #date in YYYY-MM-DD format\n",
    "print(\"Songs in the album: \",results[\"tracks\"][\"items\"][0][\"album\"][\"total_tracks\"]) #songs in the album"
   ]
  },
  {
   "cell_type": "markdown",
   "metadata": {
    "id": "ma33RhJ3GyyD"
   },
   "source": [
    "## Other info"
   ]
  },
  {
   "cell_type": "code",
   "execution_count": null,
   "metadata": {
    "colab": {
     "base_uri": "https://localhost:8080/",
     "height": 35
    },
    "executionInfo": {
     "elapsed": 292,
     "status": "ok",
     "timestamp": 1647796656055,
     "user": {
      "displayName": "Ignacio Soteras",
      "photoUrl": "https://lh3.googleusercontent.com/a/default-user=s64",
      "userId": "02050793736257155229"
     },
     "user_tz": -60
    },
    "id": "rpRcNkuhG1Ht",
    "outputId": "dd18765b-9ab0-4225-b950-1799514e2790"
   },
   "outputs": [],
   "source": [
    "results[\"tracks\"][\"items\"][0][\"artists\"] # Track artists\n",
    "results[\"tracks\"][\"items\"][0][\"id\"] # Track ID\n",
    "results[\"tracks\"][\"items\"][0][\"name\"] # Track name\n",
    "results[\"tracks\"][\"items\"][0][\"popularity\"] # Popularity index\n",
    "results[\"tracks\"][\"items\"][0][\"uri\"] # Basically ID"
   ]
  },
  {
   "cell_type": "markdown",
   "metadata": {
    "id": "nDVEK6DDH82J"
   },
   "source": [
    "# Exploring songs"
   ]
  },
  {
   "cell_type": "markdown",
   "metadata": {
    "id": "ZdgnthLDIDUz"
   },
   "source": [
    "## Searching a playlist"
   ]
  },
  {
   "cell_type": "code",
   "execution_count": null,
   "metadata": {
    "executionInfo": {
     "elapsed": 603,
     "status": "ok",
     "timestamp": 1647796661221,
     "user": {
      "displayName": "Ignacio Soteras",
      "photoUrl": "https://lh3.googleusercontent.com/a/default-user=s64",
      "userId": "02050793736257155229"
     },
     "user_tz": -60
    },
    "id": "QFNoaLUpIAVg"
   },
   "outputs": [],
   "source": [
    "playlist = sp.user_playlist_tracks(\"spotify\", \"4rnleEAOdmFAbRcNCgZMpY\")"
   ]
  },
  {
   "cell_type": "code",
   "execution_count": null,
   "metadata": {
    "colab": {
     "base_uri": "https://localhost:8080/"
    },
    "executionInfo": {
     "elapsed": 5,
     "status": "ok",
     "timestamp": 1647796663036,
     "user": {
      "displayName": "Ignacio Soteras",
      "photoUrl": "https://lh3.googleusercontent.com/a/default-user=s64",
      "userId": "02050793736257155229"
     },
     "user_tz": -60
    },
    "id": "hEmemxE9oDwa",
    "outputId": "9ecabbdb-28f9-4901-f033-a0a017687c57"
   },
   "outputs": [],
   "source": [
    "type(playlist)"
   ]
  },
  {
   "cell_type": "code",
   "execution_count": null,
   "metadata": {
    "colab": {
     "base_uri": "https://localhost:8080/"
    },
    "executionInfo": {
     "elapsed": 5,
     "status": "ok",
     "timestamp": 1647796666089,
     "user": {
      "displayName": "Ignacio Soteras",
      "photoUrl": "https://lh3.googleusercontent.com/a/default-user=s64",
      "userId": "02050793736257155229"
     },
     "user_tz": -60
    },
    "id": "wG-PfUCEIKvy",
    "outputId": "e8807a4e-673e-4f58-b20f-d6c71be92517"
   },
   "outputs": [],
   "source": [
    "print(list(playlist.keys())) # Let's look at items and total:\n",
    "print(\"Total number of songs in the playlist: \",playlist[\"total\"]) # 4Ksongs!! Let's check items:\n",
    "len(playlist[\"items\"]) # It is limited to 100 tracks, we will have to fix it:"
   ]
  },
  {
   "cell_type": "markdown",
   "metadata": {
    "id": "8gIIuaAAIhQi"
   },
   "source": [
    "## Extracting the songs of a playlist"
   ]
  },
  {
   "cell_type": "markdown",
   "metadata": {
    "id": "vmwZa11wjBM6"
   },
   "source": [
    "Pagination using \"next\"\n",
    "When you collect songs from a playlist using sp.playlist_tracks, you're limited by the limit parameter, which has a maximum (and default) value of 100. When the playlist has more than 100 songs, you have to collect them by navigating through the \"pages\" of the results.\n",
    "\n",
    "The parameter offset allows you to retrieve resuls starting at a certain position: if you start at position 101, you'd get the next \"page\" of results. An offset of 201 would give you the third page, and so on.\n",
    "\n",
    "The function sp.next() does the same, but in a simpler way: it can be used on the results from any request to directly retrieve the results for the next page.\n",
    "\n",
    "We can check whether there's a next page or not by accessing the key next on the results from any request."
   ]
  },
  {
   "cell_type": "code",
   "execution_count": null,
   "metadata": {
    "colab": {
     "base_uri": "https://localhost:8080/",
     "height": 533
    },
    "executionInfo": {
     "elapsed": 10211,
     "status": "error",
     "timestamp": 1647796696359,
     "user": {
      "displayName": "Ignacio Soteras",
      "photoUrl": "https://lh3.googleusercontent.com/a/default-user=s64",
      "userId": "02050793736257155229"
     },
     "user_tz": -60
    },
    "id": "xL2er8hRIl_S",
    "outputId": "f7818c87-8dfb-4b39-f4fc-4e5974fdd42e"
   },
   "outputs": [],
   "source": [
    "def get_playlist_tracks(username, playlist_id):\n",
    "    results = sp.user_playlist_tracks(username,playlist_id)\n",
    "    tracks = results['items']\n",
    "    while results['next']:\n",
    "        results = sp.next(results)\n",
    "        tracks.extend(results['items'])\n",
    "    return tracks\n",
    "\n",
    "get_playlist_tracks(\"spotify\", \"4rnleEAOdmFAbRcNCgZMpY\")\n"
   ]
  },
  {
   "cell_type": "markdown",
   "metadata": {
    "id": "0tlqOKWCJDq1"
   },
   "source": [
    "## Getting the artists of the playlist "
   ]
  },
  {
   "cell_type": "code",
   "execution_count": null,
   "metadata": {
    "executionInfo": {
     "elapsed": 290,
     "status": "ok",
     "timestamp": 1647796713595,
     "user": {
      "displayName": "Ignacio Soteras",
      "photoUrl": "https://lh3.googleusercontent.com/a/default-user=s64",
      "userId": "02050793736257155229"
     },
     "user_tz": -60
    },
    "id": "idbmLYT7qTCG"
   },
   "outputs": [],
   "source": [
    "def get_artists_from_track(track):\n",
    "    return [artist[\"name\"] for artist in track[\"artists\"]]"
   ]
  },
  {
   "cell_type": "code",
   "execution_count": null,
   "metadata": {
    "executionInfo": {
     "elapsed": 2,
     "status": "ok",
     "timestamp": 1647796714860,
     "user": {
      "displayName": "Ignacio Soteras",
      "photoUrl": "https://lh3.googleusercontent.com/a/default-user=s64",
      "userId": "02050793736257155229"
     },
     "user_tz": -60
    },
    "id": "VBm6PWerJH6A"
   },
   "outputs": [],
   "source": [
    "def get_artists_from_playlist(playlist_id):\n",
    "    tracks_from_playlist = get_playlist_tracks(\"spotify\", playlist_id)\n",
    "    return list(set(artist for subset in [get_artists_from_track(track[\"track\"]) for track in tracks_from_playlist] for artist in subset))"
   ]
  },
  {
   "cell_type": "code",
   "execution_count": null,
   "metadata": {
    "colab": {
     "base_uri": "https://localhost:8080/",
     "height": 533
    },
    "executionInfo": {
     "elapsed": 901,
     "status": "error",
     "timestamp": 1647796717705,
     "user": {
      "displayName": "Ignacio Soteras",
      "photoUrl": "https://lh3.googleusercontent.com/a/default-user=s64",
      "userId": "02050793736257155229"
     },
     "user_tz": -60
    },
    "id": "vMADuNRjCzYW",
    "outputId": "c9ec24ed-24a2-4ed8-eb22-fd2c8cc31617"
   },
   "outputs": [],
   "source": [
    "get_artists_from_playlist(\"4rnleEAOdmFAbRcNCgZMpY\")"
   ]
  },
  {
   "cell_type": "markdown",
   "metadata": {
    "id": "nOpED5mzJaPH"
   },
   "source": [
    "## Artists ID"
   ]
  },
  {
   "cell_type": "code",
   "execution_count": null,
   "metadata": {
    "executionInfo": {
     "elapsed": 265,
     "status": "ok",
     "timestamp": 1647796727208,
     "user": {
      "displayName": "Ignacio Soteras",
      "photoUrl": "https://lh3.googleusercontent.com/a/default-user=s64",
      "userId": "02050793736257155229"
     },
     "user_tz": -60
    },
    "id": "By6HnwQVKjn9"
   },
   "outputs": [],
   "source": [
    "def get_artists_from_track(track):\n",
    "    return[artist[\"name\"] for artist in track[\"artists\"]]\n",
    "\n",
    "#--------------------------------------------------------------------\n",
    "\n",
    "def get_artists_ids_from_track(track):\n",
    "    return [artist[\"id\"] for artist in track[\"artists\"]]"
   ]
  },
  {
   "cell_type": "code",
   "execution_count": null,
   "metadata": {
    "executionInfo": {
     "elapsed": 270,
     "status": "ok",
     "timestamp": 1647796729981,
     "user": {
      "displayName": "Ignacio Soteras",
      "photoUrl": "https://lh3.googleusercontent.com/a/default-user=s64",
      "userId": "02050793736257155229"
     },
     "user_tz": -60
    },
    "id": "iglwhQEPJdjs"
   },
   "outputs": [],
   "source": [
    "def get_artists_ids_from_playlist(playlist_id):\n",
    "    tracks_from_playlist = get_playlist_tracks(\"spotify\", playlist_id)\n",
    "    return list(set(artist for subset in [get_artists_ids_from_track(track[\"track\"]) for track in tracks_from_playlist] for artist in subset))"
   ]
  },
  {
   "cell_type": "code",
   "execution_count": null,
   "metadata": {
    "colab": {
     "base_uri": "https://localhost:8080/",
     "height": 533
    },
    "executionInfo": {
     "elapsed": 6545,
     "status": "error",
     "timestamp": 1647796738013,
     "user": {
      "displayName": "Ignacio Soteras",
      "photoUrl": "https://lh3.googleusercontent.com/a/default-user=s64",
      "userId": "02050793736257155229"
     },
     "user_tz": -60
    },
    "id": "7e6xcNp4JoZ4",
    "outputId": "5a85940c-ac93-473f-8118-57e0d98a2200"
   },
   "outputs": [],
   "source": [
    "artists = get_artists_from_playlist(\"4rnleEAOdmFAbRcNCgZMpY\") # Apply the function\n",
    "artists_ids = get_artists_ids_from_playlist(\"4rnleEAOdmFAbRcNCgZMpY\")\n",
    "len(artists)\n",
    "len(artists_ids) # We might have more ids due to artists having the same name"
   ]
  },
  {
   "cell_type": "markdown",
   "metadata": {
    "id": "MBq_6MslLqN1"
   },
   "source": [
    "# Getting the info"
   ]
  },
  {
   "cell_type": "markdown",
   "metadata": {
    "id": "flAFNc16L7UA"
   },
   "source": [
    "In this section we will work with albums to extract information. We will start by extracting all the albums of an artist."
   ]
  },
  {
   "cell_type": "code",
   "execution_count": null,
   "metadata": {
    "executionInfo": {
     "elapsed": 288,
     "status": "ok",
     "timestamp": 1647796750554,
     "user": {
      "displayName": "Ignacio Soteras",
      "photoUrl": "https://lh3.googleusercontent.com/a/default-user=s64",
      "userId": "02050793736257155229"
     },
     "user_tz": -60
    },
    "id": "aYMfWpqSL8cv"
   },
   "outputs": [],
   "source": [
    "def get_albums_from_artist(artist_id):\n",
    "    results = sp.artist_albums(artist_id, limit = 50)\n",
    "    tracks = results['items']\n",
    "    while results['next']:\n",
    "        results = sp.next(results)\n",
    "        tracks.extend(results['items'])\n",
    "    return tracks\n",
    "\n",
    "# Same for albums ids\n",
    "def get_album_ids_from_artist(artist_id):\n",
    "    results = sp.artist_albums(artist_id, limit = 50)\n",
    "    tracks = results['items']\n",
    "    while results['next']:\n",
    "        results = sp.next(results)\n",
    "        tracks.extend(results['items'])\n",
    "    return [track[\"id\"] for track in tracks]"
   ]
  },
  {
   "cell_type": "markdown",
   "metadata": {
    "id": "W4DVUzVGMBmY"
   },
   "source": [
    "Example: Coldplay"
   ]
  },
  {
   "cell_type": "code",
   "execution_count": null,
   "metadata": {
    "colab": {
     "base_uri": "https://localhost:8080/"
    },
    "executionInfo": {
     "elapsed": 22683,
     "status": "ok",
     "timestamp": 1647796777321,
     "user": {
      "displayName": "Ignacio Soteras",
      "photoUrl": "https://lh3.googleusercontent.com/a/default-user=s64",
      "userId": "02050793736257155229"
     },
     "user_tz": -60
    },
    "id": "TIl4480OMDe2",
    "outputId": "b9467a5c-418c-4e9c-a587-f29bb12c55f9"
   },
   "outputs": [],
   "source": [
    "coldplay_id = \"4gzpq5DPGxSnKTe4SA8HAU\"\n",
    "coldplay_albums = get_albums_from_artist(coldplay_id)\n",
    "coldplay_album_ids = get_album_ids_from_artist(coldplay_id)\n",
    "\n",
    "# Check artists that played with coldplay\n",
    "set([artist[\"name\"] for track in coldplay_albums for artist in track[\"artists\"]])"
   ]
  },
  {
   "cell_type": "markdown",
   "metadata": {
    "id": "ljaglNRvMTL5"
   },
   "source": [
    "## Getting the songs of a given album"
   ]
  },
  {
   "cell_type": "code",
   "execution_count": null,
   "metadata": {
    "executionInfo": {
     "elapsed": 230,
     "status": "ok",
     "timestamp": 1647796781831,
     "user": {
      "displayName": "Ignacio Soteras",
      "photoUrl": "https://lh3.googleusercontent.com/a/default-user=s64",
      "userId": "02050793736257155229"
     },
     "user_tz": -60
    },
    "id": "q3wKfrHbMWO3"
   },
   "outputs": [],
   "source": [
    "def get_track_ids_from_albums(album_ids):\n",
    "    return list(set([i[\"id\"] for j in album_ids for i in sp.album(j)[\"tracks\"][\"items\"]]))"
   ]
  },
  {
   "cell_type": "code",
   "execution_count": null,
   "metadata": {
    "colab": {
     "base_uri": "https://localhost:8080/"
    },
    "executionInfo": {
     "elapsed": 150941,
     "status": "ok",
     "timestamp": 1647796936505,
     "user": {
      "displayName": "Ignacio Soteras",
      "photoUrl": "https://lh3.googleusercontent.com/a/default-user=s64",
      "userId": "02050793736257155229"
     },
     "user_tz": -60
    },
    "id": "WzZLGfwlMd2C",
    "outputId": "b4928a94-52cd-4b33-b17f-75767bca9bb8"
   },
   "outputs": [],
   "source": [
    "coldplay_songs = get_track_ids_from_albums(coldplay_album_ids)\n",
    "\n",
    "len(coldplay_songs)"
   ]
  }
 ],
 "metadata": {
  "colab": {
   "authorship_tag": "ABX9TyNcjsX8MM2/v+FXWEoMNtzp",
   "mount_file_id": "1f3HsS5F0GzS75tlHyrwhBGlTWbE0nG4o",
   "name": "Code_along_Spotify_structure.ipynb",
   "provenance": []
  },
  "kernelspec": {
   "display_name": "Python 3",
   "language": "python",
   "name": "python3"
  },
  "language_info": {
   "codemirror_mode": {
    "name": "ipython",
    "version": 3
   },
   "file_extension": ".py",
   "mimetype": "text/x-python",
   "name": "python",
   "nbconvert_exporter": "python",
   "pygments_lexer": "ipython3",
   "version": "3.8.5"
  },
  "varInspector": {
   "cols": {
    "lenName": 16,
    "lenType": 16,
    "lenVar": 40
   },
   "kernels_config": {
    "python": {
     "delete_cmd_postfix": "",
     "delete_cmd_prefix": "del ",
     "library": "var_list.py",
     "varRefreshCmd": "print(var_dic_list())"
    },
    "r": {
     "delete_cmd_postfix": ") ",
     "delete_cmd_prefix": "rm(",
     "library": "var_list.r",
     "varRefreshCmd": "cat(var_dic_list()) "
    }
   },
   "types_to_exclude": [
    "module",
    "function",
    "builtin_function_or_method",
    "instance",
    "_Feature"
   ],
   "window_display": false
  }
 },
 "nbformat": 4,
 "nbformat_minor": 1
}
